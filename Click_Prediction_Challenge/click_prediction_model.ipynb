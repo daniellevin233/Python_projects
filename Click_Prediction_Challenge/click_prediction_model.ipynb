{
 "cells": [
  {
   "cell_type": "markdown",
   "metadata": {},
   "source": [
    "# Click prediction challenge solution"
   ]
  },
  {
   "cell_type": "code",
   "execution_count": 1,
   "metadata": {},
   "outputs": [],
   "source": [
    "# import warnings filter\n",
    "from warnings import simplefilter\n",
    "# ignore all future warnings\n",
    "simplefilter(action='ignore', category=FutureWarning)"
   ]
  },
  {
   "cell_type": "markdown",
   "metadata": {},
   "source": [
    "First let's import the most essential libraries"
   ]
  },
  {
   "cell_type": "code",
   "execution_count": 2,
   "metadata": {},
   "outputs": [
    {
     "name": "stderr",
     "output_type": "stream",
     "text": [
      "In C:\\Users\\danii\\Anaconda3\\lib\\site-packages\\matplotlib\\mpl-data\\stylelib\\_classic_test.mplstyle: \n",
      "The text.latex.preview rcparam was deprecated in Matplotlib 3.3 and will be removed two minor releases later.\n",
      "In C:\\Users\\danii\\Anaconda3\\lib\\site-packages\\matplotlib\\mpl-data\\stylelib\\_classic_test.mplstyle: \n",
      "The mathtext.fallback_to_cm rcparam was deprecated in Matplotlib 3.3 and will be removed two minor releases later.\n",
      "In C:\\Users\\danii\\Anaconda3\\lib\\site-packages\\matplotlib\\mpl-data\\stylelib\\_classic_test.mplstyle: Support for setting the 'mathtext.fallback_to_cm' rcParam is deprecated since 3.3 and will be removed two minor releases later; use 'mathtext.fallback : 'cm' instead.\n",
      "In C:\\Users\\danii\\Anaconda3\\lib\\site-packages\\matplotlib\\mpl-data\\stylelib\\_classic_test.mplstyle: \n",
      "The validate_bool_maybe_none function was deprecated in Matplotlib 3.3 and will be removed two minor releases later.\n",
      "In C:\\Users\\danii\\Anaconda3\\lib\\site-packages\\matplotlib\\mpl-data\\stylelib\\_classic_test.mplstyle: \n",
      "The savefig.jpeg_quality rcparam was deprecated in Matplotlib 3.3 and will be removed two minor releases later.\n",
      "In C:\\Users\\danii\\Anaconda3\\lib\\site-packages\\matplotlib\\mpl-data\\stylelib\\_classic_test.mplstyle: \n",
      "The keymap.all_axes rcparam was deprecated in Matplotlib 3.3 and will be removed two minor releases later.\n",
      "In C:\\Users\\danii\\Anaconda3\\lib\\site-packages\\matplotlib\\mpl-data\\stylelib\\_classic_test.mplstyle: \n",
      "The animation.avconv_path rcparam was deprecated in Matplotlib 3.3 and will be removed two minor releases later.\n",
      "In C:\\Users\\danii\\Anaconda3\\lib\\site-packages\\matplotlib\\mpl-data\\stylelib\\_classic_test.mplstyle: \n",
      "The animation.avconv_args rcparam was deprecated in Matplotlib 3.3 and will be removed two minor releases later.\n"
     ]
    }
   ],
   "source": [
    "import pandas as pd\n",
    "import numpy as np\n",
    "import matplotlib.pyplot as plt\n",
    "import seaborn as sns"
   ]
  },
  {
   "cell_type": "markdown",
   "metadata": {},
   "source": [
    "## 1. Load the dataset"
   ]
  },
  {
   "cell_type": "markdown",
   "metadata": {},
   "source": [
    "Now, let's import the data:"
   ]
  },
  {
   "cell_type": "code",
   "execution_count": 3,
   "metadata": {},
   "outputs": [],
   "source": [
    "df = pd.read_csv('android_bids_us.csv')"
   ]
  },
  {
   "cell_type": "code",
   "execution_count": 4,
   "metadata": {},
   "outputs": [
    {
     "data": {
      "text/html": [
       "<div>\n",
       "<style scoped>\n",
       "    .dataframe tbody tr th:only-of-type {\n",
       "        vertical-align: middle;\n",
       "    }\n",
       "\n",
       "    .dataframe tbody tr th {\n",
       "        vertical-align: top;\n",
       "    }\n",
       "\n",
       "    .dataframe thead th {\n",
       "        text-align: right;\n",
       "    }\n",
       "</style>\n",
       "<table border=\"1\" class=\"dataframe\">\n",
       "  <thead>\n",
       "    <tr style=\"text-align: right;\">\n",
       "      <th></th>\n",
       "      <th>bidid</th>\n",
       "      <th>utc_time</th>\n",
       "      <th>app_id</th>\n",
       "      <th>user_state</th>\n",
       "      <th>user_isp</th>\n",
       "      <th>device_maker</th>\n",
       "      <th>device_model</th>\n",
       "      <th>device_osv</th>\n",
       "      <th>device_height</th>\n",
       "      <th>device_width</th>\n",
       "      <th>marketplace</th>\n",
       "      <th>click</th>\n",
       "    </tr>\n",
       "  </thead>\n",
       "  <tbody>\n",
       "    <tr>\n",
       "      <td>0</td>\n",
       "      <td>87b0108c-6e9f-4783-8b80-8dd5aa3529a8</td>\n",
       "      <td>1536444331894</td>\n",
       "      <td>com.OppanaGames.CarSim</td>\n",
       "      <td>TX</td>\n",
       "      <td>AT&amp;T Wireless</td>\n",
       "      <td>NaN</td>\n",
       "      <td>NaN</td>\n",
       "      <td>7.0</td>\n",
       "      <td>720</td>\n",
       "      <td>1280</td>\n",
       "      <td>chartboost</td>\n",
       "      <td>0</td>\n",
       "    </tr>\n",
       "    <tr>\n",
       "      <td>1</td>\n",
       "      <td>9284441f-a6ea-4698-9017-86436b92d416</td>\n",
       "      <td>1536444363932</td>\n",
       "      <td>com.mobilityware.CrownSolitaire</td>\n",
       "      <td>TX</td>\n",
       "      <td>T-Mobile USA</td>\n",
       "      <td>NaN</td>\n",
       "      <td>NaN</td>\n",
       "      <td>7.0</td>\n",
       "      <td>1280</td>\n",
       "      <td>720</td>\n",
       "      <td>chartboost</td>\n",
       "      <td>0</td>\n",
       "    </tr>\n",
       "    <tr>\n",
       "      <td>2</td>\n",
       "      <td>7e4779c2-f757-4324-8c2a-138b558b5a54</td>\n",
       "      <td>1536444386908</td>\n",
       "      <td>com.kuttigames.tenkyurollball</td>\n",
       "      <td>LA</td>\n",
       "      <td>AT&amp;T Wireless</td>\n",
       "      <td>NaN</td>\n",
       "      <td>NaN</td>\n",
       "      <td>7.1.1</td>\n",
       "      <td>720</td>\n",
       "      <td>1280</td>\n",
       "      <td>chartboost</td>\n",
       "      <td>0</td>\n",
       "    </tr>\n",
       "    <tr>\n",
       "      <td>3</td>\n",
       "      <td>b64ea208-38ca-42ac-895e-0842d7352cc3</td>\n",
       "      <td>1536444405023</td>\n",
       "      <td>com.trendactionfree.call_of_sniper_duty_frontl...</td>\n",
       "      <td>TN</td>\n",
       "      <td>Comcast Cable</td>\n",
       "      <td>NaN</td>\n",
       "      <td>NaN</td>\n",
       "      <td>6.0.1</td>\n",
       "      <td>720</td>\n",
       "      <td>1280</td>\n",
       "      <td>chartboost</td>\n",
       "      <td>0</td>\n",
       "    </tr>\n",
       "    <tr>\n",
       "      <td>4</td>\n",
       "      <td>fd0c07cb-31f6-408c-9315-1cb652e76abc</td>\n",
       "      <td>1536444443458</td>\n",
       "      <td>com.landslab.my3rdgrademathgames</td>\n",
       "      <td>NC</td>\n",
       "      <td>AT&amp;T U-verse</td>\n",
       "      <td>NaN</td>\n",
       "      <td>NaN</td>\n",
       "      <td>7.1.1</td>\n",
       "      <td>1024</td>\n",
       "      <td>768</td>\n",
       "      <td>chartboost</td>\n",
       "      <td>0</td>\n",
       "    </tr>\n",
       "  </tbody>\n",
       "</table>\n",
       "</div>"
      ],
      "text/plain": [
       "                                  bidid       utc_time  \\\n",
       "0  87b0108c-6e9f-4783-8b80-8dd5aa3529a8  1536444331894   \n",
       "1  9284441f-a6ea-4698-9017-86436b92d416  1536444363932   \n",
       "2  7e4779c2-f757-4324-8c2a-138b558b5a54  1536444386908   \n",
       "3  b64ea208-38ca-42ac-895e-0842d7352cc3  1536444405023   \n",
       "4  fd0c07cb-31f6-408c-9315-1cb652e76abc  1536444443458   \n",
       "\n",
       "                                              app_id user_state  \\\n",
       "0                             com.OppanaGames.CarSim         TX   \n",
       "1                    com.mobilityware.CrownSolitaire         TX   \n",
       "2                      com.kuttigames.tenkyurollball         LA   \n",
       "3  com.trendactionfree.call_of_sniper_duty_frontl...         TN   \n",
       "4                   com.landslab.my3rdgrademathgames         NC   \n",
       "\n",
       "        user_isp device_maker device_model device_osv  device_height  \\\n",
       "0  AT&T Wireless          NaN          NaN        7.0            720   \n",
       "1   T-Mobile USA          NaN          NaN        7.0           1280   \n",
       "2  AT&T Wireless          NaN          NaN      7.1.1            720   \n",
       "3  Comcast Cable          NaN          NaN      6.0.1            720   \n",
       "4   AT&T U-verse          NaN          NaN      7.1.1           1024   \n",
       "\n",
       "   device_width marketplace  click  \n",
       "0          1280  chartboost      0  \n",
       "1           720  chartboost      0  \n",
       "2          1280  chartboost      0  \n",
       "3          1280  chartboost      0  \n",
       "4           768  chartboost      0  "
      ]
     },
     "execution_count": 4,
     "metadata": {},
     "output_type": "execute_result"
    }
   ],
   "source": [
    "df.head()"
   ]
  },
  {
   "cell_type": "markdown",
   "metadata": {},
   "source": [
    "Let's inspect the data in order to get sense of how much missing data we have, which features are present and what should be modified before applying next steps"
   ]
  },
  {
   "cell_type": "code",
   "execution_count": 5,
   "metadata": {},
   "outputs": [
    {
     "data": {
      "text/plain": [
       "(3148828, 12)"
      ]
     },
     "execution_count": 5,
     "metadata": {},
     "output_type": "execute_result"
    }
   ],
   "source": [
    "df.shape"
   ]
  },
  {
   "cell_type": "markdown",
   "metadata": {},
   "source": [
    "There are over 3 millions samples, 11 features and 1 target variable. This should be enough for binary classification problem. However, the number of features might not be sufficient for training a powerful model. Thus, generating new features should be considered further. "
   ]
  },
  {
   "cell_type": "code",
   "execution_count": 6,
   "metadata": {},
   "outputs": [
    {
     "name": "stdout",
     "output_type": "stream",
     "text": [
      "<class 'pandas.core.frame.DataFrame'>\n",
      "RangeIndex: 3148828 entries, 0 to 3148827\n",
      "Data columns (total 12 columns):\n",
      "bidid            object\n",
      "utc_time         int64\n",
      "app_id           object\n",
      "user_state       object\n",
      "user_isp         object\n",
      "device_maker     object\n",
      "device_model     object\n",
      "device_osv       object\n",
      "device_height    int64\n",
      "device_width     int64\n",
      "marketplace      object\n",
      "click            int64\n",
      "dtypes: int64(4), object(8)\n",
      "memory usage: 288.3+ MB\n"
     ]
    }
   ],
   "source": [
    "df.info()"
   ]
  },
  {
   "cell_type": "markdown",
   "metadata": {},
   "source": [
    "Note, that most of the features are probably (object dtype) categorical."
   ]
  },
  {
   "cell_type": "markdown",
   "metadata": {},
   "source": [
    "Verify that the column containing the target variable is valid:"
   ]
  },
  {
   "cell_type": "code",
   "execution_count": 7,
   "metadata": {},
   "outputs": [
    {
     "data": {
      "text/plain": [
       "count    3.148828e+06\n",
       "mean     6.770741e-02\n",
       "std      2.512432e-01\n",
       "min      0.000000e+00\n",
       "25%      0.000000e+00\n",
       "50%      0.000000e+00\n",
       "75%      0.000000e+00\n",
       "max      1.000000e+00\n",
       "Name: click, dtype: float64"
      ]
     },
     "execution_count": 7,
     "metadata": {},
     "output_type": "execute_result"
    }
   ],
   "source": [
    "df['click'].describe()"
   ]
  },
  {
   "cell_type": "markdown",
   "metadata": {},
   "source": [
    "The range of the values is between 0 and 1 inclusively."
   ]
  },
  {
   "cell_type": "code",
   "execution_count": 8,
   "metadata": {},
   "outputs": [
    {
     "data": {
      "text/plain": [
       "2"
      ]
     },
     "execution_count": 8,
     "metadata": {},
     "output_type": "execute_result"
    }
   ],
   "source": [
    "df['click'].nunique()"
   ]
  },
  {
   "cell_type": "markdown",
   "metadata": {},
   "source": [
    "There are only two values, combined with the max and min values we imply that they are 0 and 1"
   ]
  },
  {
   "cell_type": "code",
   "execution_count": 9,
   "metadata": {},
   "outputs": [
    {
     "data": {
      "text/plain": [
       "0"
      ]
     },
     "execution_count": 9,
     "metadata": {},
     "output_type": "execute_result"
    }
   ],
   "source": [
    "df['click'].isnull().sum()"
   ]
  },
  {
   "cell_type": "markdown",
   "metadata": {},
   "source": [
    "And finally, there are no missing values."
   ]
  },
  {
   "cell_type": "markdown",
   "metadata": {},
   "source": [
    "Let's inspect how many positively labeled samples are in the data:"
   ]
  },
  {
   "cell_type": "code",
   "execution_count": 10,
   "metadata": {},
   "outputs": [
    {
     "data": {
      "text/plain": [
       "213199"
      ]
     },
     "execution_count": 10,
     "metadata": {},
     "output_type": "execute_result"
    }
   ],
   "source": [
    "np.sum(df['click'])"
   ]
  },
  {
   "cell_type": "markdown",
   "metadata": {},
   "source": [
    "For further reuse, define a function that gets a dataframe containing 'click' column as an input and outputs the rate of positive labels in the given dataframe:"
   ]
  },
  {
   "cell_type": "code",
   "execution_count": 11,
   "metadata": {},
   "outputs": [
    {
     "data": {
      "text/plain": [
       "0.06770741367899422"
      ]
     },
     "execution_count": 11,
     "metadata": {},
     "output_type": "execute_result"
    }
   ],
   "source": [
    "# count the rate of positive labels\n",
    "def positive_labels_rate(df):\n",
    "    return np.sum(df['click']) / df.shape[0]\n",
    "positive_labels_rate(df)"
   ]
  },
  {
   "cell_type": "code",
   "execution_count": 12,
   "metadata": {},
   "outputs": [
    {
     "data": {
      "text/plain": [
       "<AxesSubplot:xlabel='click', ylabel='count'>"
      ]
     },
     "execution_count": 12,
     "metadata": {},
     "output_type": "execute_result"
    },
    {
     "data": {
      "image/png": "[encoded data removed]",
      "text/plain": [
       "<Figure size 432x288 with 1 Axes>"
      ]
     },
     "metadata": {
      "needs_background": "light"
     },
     "output_type": "display_data"
    }
   ],
   "source": [
    "sns.countplot(x='click', data=df)"
   ]
  },
  {
   "cell_type": "markdown",
   "metadata": {},
   "source": [
    "Only about 7% of the samples are labeled positively"
   ]
  },
  {
   "cell_type": "markdown",
   "metadata": {},
   "source": [
    "Before we start modifying the dataset, let's put aside a holdout test set. This is important to preserve its natural essence - as it would arrive as unseen data. The number of samples allows us to holdout a bigger test set (here 35%), we should only verify that the rate of positive labels remains:"
   ]
  },
  {
   "cell_type": "code",
   "execution_count": 13,
   "metadata": {},
   "outputs": [
    {
     "name": "stdout",
     "output_type": "stream",
     "text": [
      "Train shape: (2046738, 12), positive labels rate: 0.06761002140967726\n",
      "Test shape: (1102090, 12), positive labels rate: 0.06788828498579971\n"
     ]
    }
   ],
   "source": [
    "from sklearn.model_selection import train_test_split\n",
    "\n",
    "train_df, test_df = train_test_split(df, test_size=0.35)\n",
    "print(f'Train shape: {train_df.shape}, positive labels rate: {positive_labels_rate(train_df)}')\n",
    "print(f'Test shape: {test_df.shape}, positive labels rate: {positive_labels_rate(test_df)}')"
   ]
  },
  {
   "cell_type": "markdown",
   "metadata": {},
   "source": [
    "As we can see the samples were divided evenly."
   ]
  },
  {
   "cell_type": "markdown",
   "metadata": {},
   "source": [
    "Let's put `test_df` in \"vault\" for now and fetch it in the very end, after tuning the model and playing with the data."
   ]
  },
  {
   "cell_type": "markdown",
   "metadata": {},
   "source": [
    "## 2. Clean the data"
   ]
  },
  {
   "cell_type": "markdown",
   "metadata": {},
   "source": [
    "First, I am going to inspect the data from the train dataframe more thoroughly and based on that define a function that will clean the data and get rid of noise. Then this function can be reused when new data is passed. For sake of clarity, the modifications will be numbered (*) throughout the analysis and later be referred from the cleaning function.\n",
    "\n",
    "Let's analyze the statistics:"
   ]
  },
  {
   "cell_type": "code",
   "execution_count": 14,
   "metadata": {},
   "outputs": [
    {
     "name": "stdout",
     "output_type": "stream",
     "text": [
      "<class 'pandas.core.frame.DataFrame'>\n",
      "Int64Index: 2046738 entries, 1239809 to 1411934\n",
      "Data columns (total 12 columns):\n",
      "bidid            object\n",
      "utc_time         int64\n",
      "app_id           object\n",
      "user_state       object\n",
      "user_isp         object\n",
      "device_maker     object\n",
      "device_model     object\n",
      "device_osv       object\n",
      "device_height    int64\n",
      "device_width     int64\n",
      "marketplace      object\n",
      "click            int64\n",
      "dtypes: int64(4), object(8)\n",
      "memory usage: 203.0+ MB\n"
     ]
    }
   ],
   "source": [
    "train_df.info()"
   ]
  },
  {
   "cell_type": "code",
   "execution_count": 15,
   "metadata": {
    "scrolled": true
   },
   "outputs": [
    {
     "data": {
      "text/plain": [
       "bidid            1957423\n",
       "utc_time         2046176\n",
       "app_id             13789\n",
       "user_state            51\n",
       "user_isp            3167\n",
       "device_maker         240\n",
       "device_model        2179\n",
       "device_osv            18\n",
       "device_height        288\n",
       "device_width         230\n",
       "marketplace            1\n",
       "click                  2\n",
       "dtype: int64"
      ]
     },
     "execution_count": 15,
     "metadata": {},
     "output_type": "execute_result"
    }
   ],
   "source": [
    "train_df.nunique() # distinct values per feature"
   ]
  },
  {
   "cell_type": "markdown",
   "metadata": {},
   "source": [
    "### (0)\n",
    "Denote that the feature marketplace contains only one value in the whole training set which means that it doesn't contribute to the model. I will delete this feature in the training set as well as in the new data. "
   ]
  },
  {
   "cell_type": "code",
   "execution_count": 16,
   "metadata": {},
   "outputs": [
    {
     "data": {
      "text/html": [
       "<div>\n",
       "<style scoped>\n",
       "    .dataframe tbody tr th:only-of-type {\n",
       "        vertical-align: middle;\n",
       "    }\n",
       "\n",
       "    .dataframe tbody tr th {\n",
       "        vertical-align: top;\n",
       "    }\n",
       "\n",
       "    .dataframe thead th {\n",
       "        text-align: right;\n",
       "    }\n",
       "</style>\n",
       "<table border=\"1\" class=\"dataframe\">\n",
       "  <thead>\n",
       "    <tr style=\"text-align: right;\">\n",
       "      <th></th>\n",
       "      <th>utc_time</th>\n",
       "      <th>device_height</th>\n",
       "      <th>device_width</th>\n",
       "      <th>click</th>\n",
       "    </tr>\n",
       "  </thead>\n",
       "  <tbody>\n",
       "    <tr>\n",
       "      <td>count</td>\n",
       "      <td>2.046738e+06</td>\n",
       "      <td>2.046738e+06</td>\n",
       "      <td>2.046738e+06</td>\n",
       "      <td>2.046738e+06</td>\n",
       "    </tr>\n",
       "    <tr>\n",
       "      <td>mean</td>\n",
       "      <td>1.538333e+12</td>\n",
       "      <td>1.180827e+03</td>\n",
       "      <td>1.152306e+03</td>\n",
       "      <td>6.761002e-02</td>\n",
       "    </tr>\n",
       "    <tr>\n",
       "      <td>std</td>\n",
       "      <td>2.319687e+09</td>\n",
       "      <td>5.190730e+02</td>\n",
       "      <td>4.528829e+02</td>\n",
       "      <td>2.510756e-01</td>\n",
       "    </tr>\n",
       "    <tr>\n",
       "      <td>min</td>\n",
       "      <td>1.533578e+12</td>\n",
       "      <td>1.400000e+01</td>\n",
       "      <td>1.400000e+01</td>\n",
       "      <td>0.000000e+00</td>\n",
       "    </tr>\n",
       "    <tr>\n",
       "      <td>25%</td>\n",
       "      <td>1.536460e+12</td>\n",
       "      <td>7.200000e+02</td>\n",
       "      <td>7.200000e+02</td>\n",
       "      <td>0.000000e+00</td>\n",
       "    </tr>\n",
       "    <tr>\n",
       "      <td>50%</td>\n",
       "      <td>1.538470e+12</td>\n",
       "      <td>1.080000e+03</td>\n",
       "      <td>1.080000e+03</td>\n",
       "      <td>0.000000e+00</td>\n",
       "    </tr>\n",
       "    <tr>\n",
       "      <td>75%</td>\n",
       "      <td>1.540095e+12</td>\n",
       "      <td>1.280000e+03</td>\n",
       "      <td>1.280000e+03</td>\n",
       "      <td>0.000000e+00</td>\n",
       "    </tr>\n",
       "    <tr>\n",
       "      <td>max</td>\n",
       "      <td>1.542630e+12</td>\n",
       "      <td>3.120000e+03</td>\n",
       "      <td>3.120000e+03</td>\n",
       "      <td>1.000000e+00</td>\n",
       "    </tr>\n",
       "  </tbody>\n",
       "</table>\n",
       "</div>"
      ],
      "text/plain": [
       "           utc_time  device_height  device_width         click\n",
       "count  2.046738e+06   2.046738e+06  2.046738e+06  2.046738e+06\n",
       "mean   1.538333e+12   1.180827e+03  1.152306e+03  6.761002e-02\n",
       "std    2.319687e+09   5.190730e+02  4.528829e+02  2.510756e-01\n",
       "min    1.533578e+12   1.400000e+01  1.400000e+01  0.000000e+00\n",
       "25%    1.536460e+12   7.200000e+02  7.200000e+02  0.000000e+00\n",
       "50%    1.538470e+12   1.080000e+03  1.080000e+03  0.000000e+00\n",
       "75%    1.540095e+12   1.280000e+03  1.280000e+03  0.000000e+00\n",
       "max    1.542630e+12   3.120000e+03  3.120000e+03  1.000000e+00"
      ]
     },
     "execution_count": 16,
     "metadata": {},
     "output_type": "execute_result"
    }
   ],
   "source": [
    "train_df.describe()"
   ]
  },
  {
   "cell_type": "markdown",
   "metadata": {},
   "source": [
    "Only 3 features are numerical"
   ]
  },
  {
   "cell_type": "code",
   "execution_count": 17,
   "metadata": {},
   "outputs": [
    {
     "data": {
      "text/plain": [
       "bidid                 0\n",
       "utc_time              0\n",
       "app_id                0\n",
       "user_state            0\n",
       "user_isp             26\n",
       "device_maker     626766\n",
       "device_model     626680\n",
       "device_osv            0\n",
       "device_height         0\n",
       "device_width          0\n",
       "marketplace           0\n",
       "click                 0\n",
       "dtype: int64"
      ]
     },
     "execution_count": 17,
     "metadata": {},
     "output_type": "execute_result"
    }
   ],
   "source": [
    "train_df.isnull().sum() # count missing entries"
   ]
  },
  {
   "cell_type": "markdown",
   "metadata": {},
   "source": [
    "device_maker and device_model both contain a significant number of missing values. Let's explore these features in order to define the optimal way to handle missing values."
   ]
  },
  {
   "cell_type": "code",
   "execution_count": 18,
   "metadata": {},
   "outputs": [
    {
     "data": {
      "text/html": [
       "<div>\n",
       "<style scoped>\n",
       "    .dataframe tbody tr th:only-of-type {\n",
       "        vertical-align: middle;\n",
       "    }\n",
       "\n",
       "    .dataframe tbody tr th {\n",
       "        vertical-align: top;\n",
       "    }\n",
       "\n",
       "    .dataframe thead th {\n",
       "        text-align: right;\n",
       "    }\n",
       "</style>\n",
       "<table border=\"1\" class=\"dataframe\">\n",
       "  <thead>\n",
       "    <tr style=\"text-align: right;\">\n",
       "      <th></th>\n",
       "      <th>device_model</th>\n",
       "      <th>device_maker</th>\n",
       "    </tr>\n",
       "  </thead>\n",
       "  <tbody>\n",
       "    <tr>\n",
       "      <td>count</td>\n",
       "      <td>1420058</td>\n",
       "      <td>1419972</td>\n",
       "    </tr>\n",
       "    <tr>\n",
       "      <td>unique</td>\n",
       "      <td>2179</td>\n",
       "      <td>240</td>\n",
       "    </tr>\n",
       "    <tr>\n",
       "      <td>top</td>\n",
       "      <td>LM-X210(G)</td>\n",
       "      <td>Samsung</td>\n",
       "    </tr>\n",
       "    <tr>\n",
       "      <td>freq</td>\n",
       "      <td>71591</td>\n",
       "      <td>561170</td>\n",
       "    </tr>\n",
       "  </tbody>\n",
       "</table>\n",
       "</div>"
      ],
      "text/plain": [
       "       device_model device_maker\n",
       "count       1420058      1419972\n",
       "unique         2179          240\n",
       "top      LM-X210(G)      Samsung\n",
       "freq          71591       561170"
      ]
     },
     "execution_count": 18,
     "metadata": {},
     "output_type": "execute_result"
    }
   ],
   "source": [
    "train_df[['device_model', 'device_maker']].describe()"
   ]
  },
  {
   "cell_type": "markdown",
   "metadata": {},
   "source": [
    "These are categorical variables. Note that device_model predefines device_maker. It suggests that device_maker feature is redundant, however, we will retain it for now. We will inspect the correlation of these variables during analysis of the features importance. \n",
    "\n",
    "### (1) \n",
    "Due to the fact, that missing values constitute a large part of the data I chose to replace NaN values with the most frequent element in the column and in addition to that, to create a new column with 1 if the corresponding category is NaN else 0. This column represents an importance column to the imputed category.\n",
    "\n",
    "This solution is not optimal because it generates bias towards the most frequent values but at the same time we don't lose the samples and we encode the importance of these mock values by adding an additional column which mitigates the consequences."
   ]
  },
  {
   "cell_type": "markdown",
   "metadata": {},
   "source": [
    "### (2)\n",
    "In contrary to aforementioned features, samples with missing user_isp will be discarded. The same missing data handling technique will be applied to missing values in other features to adapt the model to new data."
   ]
  },
  {
   "cell_type": "markdown",
   "metadata": {},
   "source": [
    "Let's collect the discussed method of data cleaning and encapsulate them into the following function:"
   ]
  },
  {
   "cell_type": "code",
   "execution_count": 19,
   "metadata": {},
   "outputs": [],
   "source": [
    "def clean_data(df):\n",
    "    # (0) remove the 'marketplace' feature\n",
    "    df = df.drop('marketplace', axis=1)\n",
    "\n",
    "    # (1) impute the most frequent value into 'device_model' and 'device_maker' and \n",
    "    #     append an importance column to each of the imputed features\n",
    "    #     Note that at these point these are the only features that might still contain missing values\n",
    "    \n",
    "    columns_to_impute = ['device_model', 'device_maker']\n",
    "    \n",
    "    # this step of preprocessing is necessary iff there are any NaN values present\n",
    "    if df[columns_to_impute].isnull().values.any():\n",
    "        # (2.1) add new column and set 1 if category is null, else 0\n",
    "        df[columns_to_impute[0] + '_Imputed'] = np.where(df[columns_to_impute[0]].isnull(), \n",
    "                                                         1, 0)\n",
    "        df[columns_to_impute[1] + '_Imputed'] = np.where(df[columns_to_impute[1]].isnull(), \n",
    "                                                         1, 0)\n",
    "\n",
    "        # (2.2) replace NaN with the most frequent value (mode)\n",
    "        df = df.fillna({columns_to_impute[0] : df[columns_to_impute[0]].mode().iloc[0],\n",
    "                        columns_to_impute[1] : df[columns_to_impute[1]].mode().iloc[0]})\n",
    "        \n",
    "    # (2) remove samples in which 'user_isp' or another feature, that is not 'device_model' or 'device_maker', is missing\n",
    "    df = df.dropna(subset=[col for col in df if col not in columns_to_impute])\n",
    "    \n",
    "    return df\n"
   ]
  },
  {
   "cell_type": "markdown",
   "metadata": {},
   "source": [
    "Clean the training data and inspect the change:"
   ]
  },
  {
   "cell_type": "code",
   "execution_count": 20,
   "metadata": {},
   "outputs": [
    {
     "data": {
      "text/html": [
       "<div>\n",
       "<style scoped>\n",
       "    .dataframe tbody tr th:only-of-type {\n",
       "        vertical-align: middle;\n",
       "    }\n",
       "\n",
       "    .dataframe tbody tr th {\n",
       "        vertical-align: top;\n",
       "    }\n",
       "\n",
       "    .dataframe thead th {\n",
       "        text-align: right;\n",
       "    }\n",
       "</style>\n",
       "<table border=\"1\" class=\"dataframe\">\n",
       "  <thead>\n",
       "    <tr style=\"text-align: right;\">\n",
       "      <th></th>\n",
       "      <th>bidid</th>\n",
       "      <th>utc_time</th>\n",
       "      <th>app_id</th>\n",
       "      <th>user_state</th>\n",
       "      <th>user_isp</th>\n",
       "      <th>device_maker</th>\n",
       "      <th>device_model</th>\n",
       "      <th>device_osv</th>\n",
       "      <th>device_height</th>\n",
       "      <th>device_width</th>\n",
       "      <th>click</th>\n",
       "      <th>device_model_Imputed</th>\n",
       "      <th>device_maker_Imputed</th>\n",
       "    </tr>\n",
       "  </thead>\n",
       "  <tbody>\n",
       "    <tr>\n",
       "      <td>1239809</td>\n",
       "      <td>5e7e1f10-2e8f-4fed-b3f3-5223a0170575</td>\n",
       "      <td>1534118930409</td>\n",
       "      <td>com.fivestargames.slots</td>\n",
       "      <td>MD</td>\n",
       "      <td>Sprint PCS</td>\n",
       "      <td>Samsung</td>\n",
       "      <td>LM-X210(G)</td>\n",
       "      <td>7.1.1</td>\n",
       "      <td>720</td>\n",
       "      <td>1280</td>\n",
       "      <td>0</td>\n",
       "      <td>1</td>\n",
       "      <td>1</td>\n",
       "    </tr>\n",
       "    <tr>\n",
       "      <td>912553</td>\n",
       "      <td>d5264be3-1354-4974-9f1c-88da89cfa600</td>\n",
       "      <td>1538345226338</td>\n",
       "      <td>com.luckyjackpotcasino.kenocasino</td>\n",
       "      <td>NC</td>\n",
       "      <td>CenturyLink</td>\n",
       "      <td>LG</td>\n",
       "      <td>L84VL</td>\n",
       "      <td>7.0</td>\n",
       "      <td>720</td>\n",
       "      <td>1280</td>\n",
       "      <td>0</td>\n",
       "      <td>0</td>\n",
       "      <td>0</td>\n",
       "    </tr>\n",
       "    <tr>\n",
       "      <td>2408779</td>\n",
       "      <td>fdfbb3ae-d15b-4064-8130-ab958509fc91</td>\n",
       "      <td>1535660762213</td>\n",
       "      <td>in.playsimple.wordtrip</td>\n",
       "      <td>CO</td>\n",
       "      <td>Verizon Wireless</td>\n",
       "      <td>Samsung</td>\n",
       "      <td>LM-X210(G)</td>\n",
       "      <td>8.0.0</td>\n",
       "      <td>2560</td>\n",
       "      <td>1440</td>\n",
       "      <td>0</td>\n",
       "      <td>1</td>\n",
       "      <td>1</td>\n",
       "    </tr>\n",
       "    <tr>\n",
       "      <td>40988</td>\n",
       "      <td>d8a271d8-cacd-4b7c-a62f-cec8aafb17ac</td>\n",
       "      <td>1535729271331</td>\n",
       "      <td>com.ketchapp.knifehit</td>\n",
       "      <td>MO</td>\n",
       "      <td>Sprint PCS</td>\n",
       "      <td>Samsung</td>\n",
       "      <td>LM-X210(G)</td>\n",
       "      <td>7.0</td>\n",
       "      <td>1920</td>\n",
       "      <td>1080</td>\n",
       "      <td>0</td>\n",
       "      <td>1</td>\n",
       "      <td>1</td>\n",
       "    </tr>\n",
       "    <tr>\n",
       "      <td>2180645</td>\n",
       "      <td>36b3017d-34c7-4738-a96a-8b3a121821bd</td>\n",
       "      <td>1538798809749</td>\n",
       "      <td>com.GS.Superhero.Tricky.bikerace.kidsgames</td>\n",
       "      <td>AZ</td>\n",
       "      <td>Cox Communications</td>\n",
       "      <td>Samsung</td>\n",
       "      <td>SM-J320A</td>\n",
       "      <td>7.1.1</td>\n",
       "      <td>720</td>\n",
       "      <td>1280</td>\n",
       "      <td>0</td>\n",
       "      <td>0</td>\n",
       "      <td>0</td>\n",
       "    </tr>\n",
       "  </tbody>\n",
       "</table>\n",
       "</div>"
      ],
      "text/plain": [
       "                                        bidid       utc_time  \\\n",
       "1239809  5e7e1f10-2e8f-4fed-b3f3-5223a0170575  1534118930409   \n",
       "912553   d5264be3-1354-4974-9f1c-88da89cfa600  1538345226338   \n",
       "2408779  fdfbb3ae-d15b-4064-8130-ab958509fc91  1535660762213   \n",
       "40988    d8a271d8-cacd-4b7c-a62f-cec8aafb17ac  1535729271331   \n",
       "2180645  36b3017d-34c7-4738-a96a-8b3a121821bd  1538798809749   \n",
       "\n",
       "                                             app_id user_state  \\\n",
       "1239809                     com.fivestargames.slots         MD   \n",
       "912553            com.luckyjackpotcasino.kenocasino         NC   \n",
       "2408779                      in.playsimple.wordtrip         CO   \n",
       "40988                         com.ketchapp.knifehit         MO   \n",
       "2180645  com.GS.Superhero.Tricky.bikerace.kidsgames         AZ   \n",
       "\n",
       "                   user_isp device_maker device_model device_osv  \\\n",
       "1239809          Sprint PCS      Samsung   LM-X210(G)      7.1.1   \n",
       "912553          CenturyLink           LG        L84VL        7.0   \n",
       "2408779    Verizon Wireless      Samsung   LM-X210(G)      8.0.0   \n",
       "40988            Sprint PCS      Samsung   LM-X210(G)        7.0   \n",
       "2180645  Cox Communications      Samsung     SM-J320A      7.1.1   \n",
       "\n",
       "         device_height  device_width  click  device_model_Imputed  \\\n",
       "1239809            720          1280      0                     1   \n",
       "912553             720          1280      0                     0   \n",
       "2408779           2560          1440      0                     1   \n",
       "40988             1920          1080      0                     1   \n",
       "2180645            720          1280      0                     0   \n",
       "\n",
       "         device_maker_Imputed  \n",
       "1239809                     1  \n",
       "912553                      0  \n",
       "2408779                     1  \n",
       "40988                       1  \n",
       "2180645                     0  "
      ]
     },
     "execution_count": 20,
     "metadata": {},
     "output_type": "execute_result"
    }
   ],
   "source": [
    "train_df_clean = clean_data(train_df)\n",
    "train_df_clean.head()"
   ]
  },
  {
   "cell_type": "code",
   "execution_count": 21,
   "metadata": {},
   "outputs": [
    {
     "data": {
      "text/plain": [
       "(2046712, 13)"
      ]
     },
     "execution_count": 21,
     "metadata": {},
     "output_type": "execute_result"
    }
   ],
   "source": [
    "train_df_clean.shape"
   ]
  },
  {
   "cell_type": "code",
   "execution_count": 22,
   "metadata": {},
   "outputs": [
    {
     "data": {
      "text/plain": [
       "click                         2\n",
       "device_model_Imputed          2\n",
       "device_maker_Imputed          2\n",
       "device_osv                   18\n",
       "user_state                   51\n",
       "device_width                230\n",
       "device_maker                240\n",
       "device_height               288\n",
       "device_model               2179\n",
       "user_isp                   3167\n",
       "app_id                    13789\n",
       "bidid                   1957401\n",
       "utc_time                2046150\n",
       "dtype: int64"
      ]
     },
     "execution_count": 22,
     "metadata": {},
     "output_type": "execute_result"
    }
   ],
   "source": [
    "train_df_clean.nunique().sort_values()"
   ]
  },
  {
   "cell_type": "markdown",
   "metadata": {},
   "source": [
    "## 3. Rank existing features importance"
   ]
  },
  {
   "cell_type": "markdown",
   "metadata": {},
   "source": [
    "First of all, let's explore the categorical features of the data. This is essential for choosing an appropriate classifier model and ranking existing features importance."
   ]
  },
  {
   "cell_type": "code",
   "execution_count": 23,
   "metadata": {},
   "outputs": [
    {
     "data": {
      "text/html": [
       "<div>\n",
       "<style scoped>\n",
       "    .dataframe tbody tr th:only-of-type {\n",
       "        vertical-align: middle;\n",
       "    }\n",
       "\n",
       "    .dataframe tbody tr th {\n",
       "        vertical-align: top;\n",
       "    }\n",
       "\n",
       "    .dataframe thead th {\n",
       "        text-align: right;\n",
       "    }\n",
       "</style>\n",
       "<table border=\"1\" class=\"dataframe\">\n",
       "  <thead>\n",
       "    <tr style=\"text-align: right;\">\n",
       "      <th></th>\n",
       "      <th>bidid</th>\n",
       "      <th>app_id</th>\n",
       "      <th>user_state</th>\n",
       "      <th>user_isp</th>\n",
       "      <th>device_maker</th>\n",
       "      <th>device_model</th>\n",
       "      <th>device_osv</th>\n",
       "    </tr>\n",
       "  </thead>\n",
       "  <tbody>\n",
       "    <tr>\n",
       "      <td>1239809</td>\n",
       "      <td>5e7e1f10-2e8f-4fed-b3f3-5223a0170575</td>\n",
       "      <td>com.fivestargames.slots</td>\n",
       "      <td>MD</td>\n",
       "      <td>Sprint PCS</td>\n",
       "      <td>Samsung</td>\n",
       "      <td>LM-X210(G)</td>\n",
       "      <td>7.1.1</td>\n",
       "    </tr>\n",
       "    <tr>\n",
       "      <td>912553</td>\n",
       "      <td>d5264be3-1354-4974-9f1c-88da89cfa600</td>\n",
       "      <td>com.luckyjackpotcasino.kenocasino</td>\n",
       "      <td>NC</td>\n",
       "      <td>CenturyLink</td>\n",
       "      <td>LG</td>\n",
       "      <td>L84VL</td>\n",
       "      <td>7.0</td>\n",
       "    </tr>\n",
       "    <tr>\n",
       "      <td>2408779</td>\n",
       "      <td>fdfbb3ae-d15b-4064-8130-ab958509fc91</td>\n",
       "      <td>in.playsimple.wordtrip</td>\n",
       "      <td>CO</td>\n",
       "      <td>Verizon Wireless</td>\n",
       "      <td>Samsung</td>\n",
       "      <td>LM-X210(G)</td>\n",
       "      <td>8.0.0</td>\n",
       "    </tr>\n",
       "    <tr>\n",
       "      <td>40988</td>\n",
       "      <td>d8a271d8-cacd-4b7c-a62f-cec8aafb17ac</td>\n",
       "      <td>com.ketchapp.knifehit</td>\n",
       "      <td>MO</td>\n",
       "      <td>Sprint PCS</td>\n",
       "      <td>Samsung</td>\n",
       "      <td>LM-X210(G)</td>\n",
       "      <td>7.0</td>\n",
       "    </tr>\n",
       "    <tr>\n",
       "      <td>2180645</td>\n",
       "      <td>36b3017d-34c7-4738-a96a-8b3a121821bd</td>\n",
       "      <td>com.GS.Superhero.Tricky.bikerace.kidsgames</td>\n",
       "      <td>AZ</td>\n",
       "      <td>Cox Communications</td>\n",
       "      <td>Samsung</td>\n",
       "      <td>SM-J320A</td>\n",
       "      <td>7.1.1</td>\n",
       "    </tr>\n",
       "  </tbody>\n",
       "</table>\n",
       "</div>"
      ],
      "text/plain": [
       "                                        bidid  \\\n",
       "1239809  5e7e1f10-2e8f-4fed-b3f3-5223a0170575   \n",
       "912553   d5264be3-1354-4974-9f1c-88da89cfa600   \n",
       "2408779  fdfbb3ae-d15b-4064-8130-ab958509fc91   \n",
       "40988    d8a271d8-cacd-4b7c-a62f-cec8aafb17ac   \n",
       "2180645  36b3017d-34c7-4738-a96a-8b3a121821bd   \n",
       "\n",
       "                                             app_id user_state  \\\n",
       "1239809                     com.fivestargames.slots         MD   \n",
       "912553            com.luckyjackpotcasino.kenocasino         NC   \n",
       "2408779                      in.playsimple.wordtrip         CO   \n",
       "40988                         com.ketchapp.knifehit         MO   \n",
       "2180645  com.GS.Superhero.Tricky.bikerace.kidsgames         AZ   \n",
       "\n",
       "                   user_isp device_maker device_model device_osv  \n",
       "1239809          Sprint PCS      Samsung   LM-X210(G)      7.1.1  \n",
       "912553          CenturyLink           LG        L84VL        7.0  \n",
       "2408779    Verizon Wireless      Samsung   LM-X210(G)      8.0.0  \n",
       "40988            Sprint PCS      Samsung   LM-X210(G)        7.0  \n",
       "2180645  Cox Communications      Samsung     SM-J320A      7.1.1  "
      ]
     },
     "execution_count": 23,
     "metadata": {},
     "output_type": "execute_result"
    }
   ],
   "source": [
    "cat_train_df = train_df_clean.select_dtypes(include=['object']).copy()\n",
    "cat_train_df.head()"
   ]
  },
  {
   "cell_type": "markdown",
   "metadata": {},
   "source": [
    "For speeding things up change the type of the categorical features:"
   ]
  },
  {
   "cell_type": "code",
   "execution_count": 24,
   "metadata": {},
   "outputs": [
    {
     "name": "stdout",
     "output_type": "stream",
     "text": [
      "<class 'pandas.core.frame.DataFrame'>\n",
      "Int64Index: 2046712 entries, 1239809 to 1411934\n",
      "Data columns (total 7 columns):\n",
      "bidid           category\n",
      "app_id          category\n",
      "user_state      category\n",
      "user_isp        category\n",
      "device_maker    category\n",
      "device_model    category\n",
      "device_osv      category\n",
      "dtypes: category(7)\n",
      "memory usage: 138.9 MB\n"
     ]
    }
   ],
   "source": [
    "cat_train_df = cat_train_df.astype('category')\n",
    "cat_train_df.info()"
   ]
  },
  {
   "cell_type": "markdown",
   "metadata": {},
   "source": [
    "Let's take a look at the distribution of categories among the categorical features:"
   ]
  },
  {
   "cell_type": "code",
   "execution_count": 25,
   "metadata": {},
   "outputs": [
    {
     "data": {
      "text/plain": [
       "bidid           0.956364\n",
       "app_id          0.006737\n",
       "user_state      0.000025\n",
       "user_isp        0.001547\n",
       "device_maker    0.000117\n",
       "device_model    0.001065\n",
       "device_osv      0.000009\n",
       "dtype: float64"
      ]
     },
     "execution_count": 25,
     "metadata": {},
     "output_type": "execute_result"
    }
   ],
   "source": [
    "cat_train_df.nunique() / cat_train_df.shape[0] # rate of covering by distinct values"
   ]
  },
  {
   "cell_type": "code",
   "execution_count": 26,
   "metadata": {},
   "outputs": [
    {
     "data": {
      "text/plain": [
       "bidid           1957401\n",
       "app_id            13789\n",
       "user_state           51\n",
       "user_isp           3167\n",
       "device_maker        240\n",
       "device_model       2179\n",
       "device_osv           18\n",
       "dtype: int64"
      ]
     },
     "execution_count": 26,
     "metadata": {},
     "output_type": "execute_result"
    }
   ],
   "source": [
    "cat_train_df.nunique()"
   ]
  },
  {
   "cell_type": "markdown",
   "metadata": {},
   "source": [
    "Most of the categorical variables have many categories. Now that we have explored the categorical data, let's derive some implications:"
   ]
  },
  {
   "cell_type": "markdown",
   "metadata": {},
   "source": [
    "Classical dimension reduction techniques (e.g. PCA) are not appropriate here due to preponderance of the categorical features, many of which contain multiple categories. Although we will encode them numerically (BinaryEncoder), PCA is not a good choice, because it heavily relies on linear distances between vectors. Therefore, to rank existing features importance, let's observe the correlation between the features and their correlation to the target variable using Pearson correlation. Categorical features will be factorized before computing the correlation matrix."
   ]
  },
  {
   "cell_type": "code",
   "execution_count": 27,
   "metadata": {},
   "outputs": [
    {
     "data": {
      "text/html": [
       "<div>\n",
       "<style scoped>\n",
       "    .dataframe tbody tr th:only-of-type {\n",
       "        vertical-align: middle;\n",
       "    }\n",
       "\n",
       "    .dataframe tbody tr th {\n",
       "        vertical-align: top;\n",
       "    }\n",
       "\n",
       "    .dataframe thead th {\n",
       "        text-align: right;\n",
       "    }\n",
       "</style>\n",
       "<table border=\"1\" class=\"dataframe\">\n",
       "  <thead>\n",
       "    <tr style=\"text-align: right;\">\n",
       "      <th></th>\n",
       "      <th>utc_time</th>\n",
       "      <th>device_height</th>\n",
       "      <th>device_width</th>\n",
       "      <th>click</th>\n",
       "      <th>device_model_Imputed</th>\n",
       "      <th>device_maker_Imputed</th>\n",
       "    </tr>\n",
       "  </thead>\n",
       "  <tbody>\n",
       "    <tr>\n",
       "      <td>1239809</td>\n",
       "      <td>1534118930409</td>\n",
       "      <td>720</td>\n",
       "      <td>1280</td>\n",
       "      <td>0</td>\n",
       "      <td>1</td>\n",
       "      <td>1</td>\n",
       "    </tr>\n",
       "    <tr>\n",
       "      <td>912553</td>\n",
       "      <td>1538345226338</td>\n",
       "      <td>720</td>\n",
       "      <td>1280</td>\n",
       "      <td>0</td>\n",
       "      <td>0</td>\n",
       "      <td>0</td>\n",
       "    </tr>\n",
       "    <tr>\n",
       "      <td>2408779</td>\n",
       "      <td>1535660762213</td>\n",
       "      <td>2560</td>\n",
       "      <td>1440</td>\n",
       "      <td>0</td>\n",
       "      <td>1</td>\n",
       "      <td>1</td>\n",
       "    </tr>\n",
       "    <tr>\n",
       "      <td>40988</td>\n",
       "      <td>1535729271331</td>\n",
       "      <td>1920</td>\n",
       "      <td>1080</td>\n",
       "      <td>0</td>\n",
       "      <td>1</td>\n",
       "      <td>1</td>\n",
       "    </tr>\n",
       "    <tr>\n",
       "      <td>2180645</td>\n",
       "      <td>1538798809749</td>\n",
       "      <td>720</td>\n",
       "      <td>1280</td>\n",
       "      <td>0</td>\n",
       "      <td>0</td>\n",
       "      <td>0</td>\n",
       "    </tr>\n",
       "  </tbody>\n",
       "</table>\n",
       "</div>"
      ],
      "text/plain": [
       "              utc_time  device_height  device_width  click  \\\n",
       "1239809  1534118930409            720          1280      0   \n",
       "912553   1538345226338            720          1280      0   \n",
       "2408779  1535660762213           2560          1440      0   \n",
       "40988    1535729271331           1920          1080      0   \n",
       "2180645  1538798809749            720          1280      0   \n",
       "\n",
       "         device_model_Imputed  device_maker_Imputed  \n",
       "1239809                     1                     1  \n",
       "912553                      0                     0  \n",
       "2408779                     1                     1  \n",
       "40988                       1                     1  \n",
       "2180645                     0                     0  "
      ]
     },
     "execution_count": 27,
     "metadata": {},
     "output_type": "execute_result"
    }
   ],
   "source": [
    "num_train_df = train_df_clean.select_dtypes(include=['int32', 'int64']).copy()\n",
    "num_train_df.head()"
   ]
  },
  {
   "cell_type": "markdown",
   "metadata": {},
   "source": [
    "5 numerical features are contained in this dataframe, and the remaining 7 categorical ones are stored in `cat_X_train_df` (has to be factorized before computing Pearson correlation). Let's concatenate them along with the target variable and plot a heatmap of Pearson correlation:"
   ]
  },
  {
   "cell_type": "code",
   "execution_count": 28,
   "metadata": {},
   "outputs": [
    {
     "data": {
      "image/png": "[encoded data removed]",
      "text/plain": [
       "<Figure size 864x720 with 2 Axes>"
      ]
     },
     "metadata": {
      "needs_background": "light"
     },
     "output_type": "display_data"
    }
   ],
   "source": [
    "import seaborn as sns\n",
    "\n",
    "plt.figure(figsize=(12, 10))\n",
    "\n",
    "# factorize categorical features\n",
    "cat_factorized_train_df = cat_train_df.apply(lambda x : pd.factorize(x)[0])\n",
    "\n",
    "# concatenate factorized categorical features with numerical features (and target variable)\n",
    "corr_matrix = pd.concat([cat_factorized_train_df, \n",
    "                         num_train_df], axis=1).corr()\n",
    "\n",
    "# compute the correlation matrix and plot the corresponding heatmap\n",
    "sns.heatmap(corr_matrix, annot=True)\n",
    "plt.show()"
   ]
  },
  {
   "cell_type": "markdown",
   "metadata": {},
   "source": [
    "Let's analyze the correlation matrix and number the changes that will be made inside the `filter_features` function later for further use on unseen data."
   ]
  },
  {
   "cell_type": "markdown",
   "metadata": {},
   "source": [
    "First we see that the correlation values for both Imputed features are identical. It is not surprising because as I've already noticed that `device_model` defines `device_maker` and therefore it's very likely that this features were missing simultaneously. This can also be affirmed by the high correlation (~0.45) between the features themselves."
   ]
  },
  {
   "cell_type": "markdown",
   "metadata": {},
   "source": [
    "## (0)\n",
    "To avoid linear dependence let's remove `device_maker` (and consequently `device_maker_Imputed`) or `device_model` (and `device_model_Imputed` accordingly) depending on whose correlation with the target variable is stronger."
   ]
  },
  {
   "cell_type": "markdown",
   "metadata": {},
   "source": [
    "## (1)\n",
    "Moreover, features such as `user_state`, `user_isp` seem to have low correlation with the target variable. Let threshold be 0.01. All the features whose correlation to the targer variable is lower than the threshold will be discarded."
   ]
  },
  {
   "cell_type": "markdown",
   "metadata": {},
   "source": [
    "Relatively high correlation (~0.3) between `utc_time` and `device_model` and certain pairs of other variables are ignored in case they correlate well to the target variable. It's also worth saying that the features present in the dataframe so far don't seem particularly useful for predicting the target variable. It should be canceled out by the big number of samples and additional features that will be introduced soon."
   ]
  },
  {
   "cell_type": "code",
   "execution_count": 29,
   "metadata": {},
   "outputs": [],
   "source": [
    "X_df = train_df_clean.drop(['click'], axis=1).copy()\n",
    "\n",
    "# select categorical features\n",
    "cat_X_df = X_df.select_dtypes(include=['object']).astype('category')\n",
    "\n",
    "# factorize categorical features\n",
    "cat_factorized_X_df = cat_X_df.apply(lambda x : pd.factorize(x)[0])\n",
    "\n",
    "# select numerical features\n",
    "num_X_df = X_df.select_dtypes(include=['int32', 'int64'])\n",
    "\n",
    "# concatenate factorized categorical features with numerical features and target variable and compute correlation matrix\n",
    "corr_matrix = pd.concat([cat_factorized_X_df, \n",
    "                         num_X_df, \n",
    "                         df['click']], axis=1).corr()\n",
    "\n",
    "# correlation with target variable\n",
    "corr_click = abs(corr_matrix['click'])\n",
    "\n",
    "columns_to_keep = set(['utc_time']) # utc_time will be used for feature engineering\n",
    "\n",
    "# (0) remove device_maker and device_maker_Imputed features or device_model and device_model_Imputed\n",
    "# based on whose correlation with the target variable is higher\n",
    "if corr_click['device_maker'] > corr_click['device_model']:\n",
    "    corr_click = corr_click.drop(['device_model', 'device_model_Imputed'])\n",
    "else:\n",
    "    corr_click = corr_click.drop(['device_maker', 'device_maker_Imputed'])\n",
    "\n",
    "\n",
    "# (1) remove features whose correlation with the target variable is lower than the threshold\n",
    "\n",
    "# filter highly correlated features\n",
    "columns_to_keep.update(corr_click[corr_click >= 0.01].index.tolist())"
   ]
  },
  {
   "cell_type": "markdown",
   "metadata": {},
   "source": [
    "Filter the training set:"
   ]
  },
  {
   "cell_type": "code",
   "execution_count": 30,
   "metadata": {},
   "outputs": [
    {
     "data": {
      "text/html": [
       "<div>\n",
       "<style scoped>\n",
       "    .dataframe tbody tr th:only-of-type {\n",
       "        vertical-align: middle;\n",
       "    }\n",
       "\n",
       "    .dataframe tbody tr th {\n",
       "        vertical-align: top;\n",
       "    }\n",
       "\n",
       "    .dataframe thead th {\n",
       "        text-align: right;\n",
       "    }\n",
       "</style>\n",
       "<table border=\"1\" class=\"dataframe\">\n",
       "  <thead>\n",
       "    <tr style=\"text-align: right;\">\n",
       "      <th></th>\n",
       "      <th>device_width</th>\n",
       "      <th>click</th>\n",
       "      <th>device_height</th>\n",
       "      <th>device_maker_Imputed</th>\n",
       "      <th>utc_time</th>\n",
       "      <th>bidid</th>\n",
       "      <th>device_maker</th>\n",
       "      <th>app_id</th>\n",
       "    </tr>\n",
       "  </thead>\n",
       "  <tbody>\n",
       "    <tr>\n",
       "      <td>1239809</td>\n",
       "      <td>1280</td>\n",
       "      <td>0</td>\n",
       "      <td>720</td>\n",
       "      <td>1</td>\n",
       "      <td>1534118930409</td>\n",
       "      <td>5e7e1f10-2e8f-4fed-b3f3-5223a0170575</td>\n",
       "      <td>Samsung</td>\n",
       "      <td>com.fivestargames.slots</td>\n",
       "    </tr>\n",
       "    <tr>\n",
       "      <td>912553</td>\n",
       "      <td>1280</td>\n",
       "      <td>0</td>\n",
       "      <td>720</td>\n",
       "      <td>0</td>\n",
       "      <td>1538345226338</td>\n",
       "      <td>d5264be3-1354-4974-9f1c-88da89cfa600</td>\n",
       "      <td>LG</td>\n",
       "      <td>com.luckyjackpotcasino.kenocasino</td>\n",
       "    </tr>\n",
       "    <tr>\n",
       "      <td>2408779</td>\n",
       "      <td>1440</td>\n",
       "      <td>0</td>\n",
       "      <td>2560</td>\n",
       "      <td>1</td>\n",
       "      <td>1535660762213</td>\n",
       "      <td>fdfbb3ae-d15b-4064-8130-ab958509fc91</td>\n",
       "      <td>Samsung</td>\n",
       "      <td>in.playsimple.wordtrip</td>\n",
       "    </tr>\n",
       "    <tr>\n",
       "      <td>40988</td>\n",
       "      <td>1080</td>\n",
       "      <td>0</td>\n",
       "      <td>1920</td>\n",
       "      <td>1</td>\n",
       "      <td>1535729271331</td>\n",
       "      <td>d8a271d8-cacd-4b7c-a62f-cec8aafb17ac</td>\n",
       "      <td>Samsung</td>\n",
       "      <td>com.ketchapp.knifehit</td>\n",
       "    </tr>\n",
       "    <tr>\n",
       "      <td>2180645</td>\n",
       "      <td>1280</td>\n",
       "      <td>0</td>\n",
       "      <td>720</td>\n",
       "      <td>0</td>\n",
       "      <td>1538798809749</td>\n",
       "      <td>36b3017d-34c7-4738-a96a-8b3a121821bd</td>\n",
       "      <td>Samsung</td>\n",
       "      <td>com.GS.Superhero.Tricky.bikerace.kidsgames</td>\n",
       "    </tr>\n",
       "  </tbody>\n",
       "</table>\n",
       "</div>"
      ],
      "text/plain": [
       "         device_width  click  device_height  device_maker_Imputed  \\\n",
       "1239809          1280      0            720                     1   \n",
       "912553           1280      0            720                     0   \n",
       "2408779          1440      0           2560                     1   \n",
       "40988            1080      0           1920                     1   \n",
       "2180645          1280      0            720                     0   \n",
       "\n",
       "              utc_time                                 bidid device_maker  \\\n",
       "1239809  1534118930409  5e7e1f10-2e8f-4fed-b3f3-5223a0170575      Samsung   \n",
       "912553   1538345226338  d5264be3-1354-4974-9f1c-88da89cfa600           LG   \n",
       "2408779  1535660762213  fdfbb3ae-d15b-4064-8130-ab958509fc91      Samsung   \n",
       "40988    1535729271331  d8a271d8-cacd-4b7c-a62f-cec8aafb17ac      Samsung   \n",
       "2180645  1538798809749  36b3017d-34c7-4738-a96a-8b3a121821bd      Samsung   \n",
       "\n",
       "                                             app_id  \n",
       "1239809                     com.fivestargames.slots  \n",
       "912553            com.luckyjackpotcasino.kenocasino  \n",
       "2408779                      in.playsimple.wordtrip  \n",
       "40988                         com.ketchapp.knifehit  \n",
       "2180645  com.GS.Superhero.Tricky.bikerace.kidsgames  "
      ]
     },
     "execution_count": 30,
     "metadata": {},
     "output_type": "execute_result"
    }
   ],
   "source": [
    "train_df_clean_filtered = train_df_clean[columns_to_keep]\n",
    "train_df_clean_filtered.head()"
   ]
  },
  {
   "cell_type": "markdown",
   "metadata": {},
   "source": [
    "## 4. Engineer new features"
   ]
  },
  {
   "cell_type": "markdown",
   "metadata": {},
   "source": [
    "Recall that so far we have the following features: `bidid`, `utc_time`, `app_id`, `device_model`, `device_osv`, `device_height`, `device_width` and `device_model_Imputed`."
   ]
  },
  {
   "cell_type": "markdown",
   "metadata": {},
   "source": [
    "Encode features related to time. The feature utc_time itself will be deleted once all the information will be extracted.\n",
    "\n",
    "Let's cast utc_time to datetime object:"
   ]
  },
  {
   "cell_type": "code",
   "execution_count": 31,
   "metadata": {},
   "outputs": [
    {
     "name": "stderr",
     "output_type": "stream",
     "text": [
      "C:\\Users\\danii\\Anaconda3\\lib\\site-packages\\ipykernel_launcher.py:1: SettingWithCopyWarning: \n",
      "A value is trying to be set on a copy of a slice from a DataFrame.\n",
      "Try using .loc[row_indexer,col_indexer] = value instead\n",
      "\n",
      "See the caveats in the documentation: http://pandas.pydata.org/pandas-docs/stable/user_guide/indexing.html#returning-a-view-versus-a-copy\n",
      "  \"\"\"Entry point for launching an IPython kernel.\n"
     ]
    },
    {
     "data": {
      "text/html": [
       "<div>\n",
       "<style scoped>\n",
       "    .dataframe tbody tr th:only-of-type {\n",
       "        vertical-align: middle;\n",
       "    }\n",
       "\n",
       "    .dataframe tbody tr th {\n",
       "        vertical-align: top;\n",
       "    }\n",
       "\n",
       "    .dataframe thead th {\n",
       "        text-align: right;\n",
       "    }\n",
       "</style>\n",
       "<table border=\"1\" class=\"dataframe\">\n",
       "  <thead>\n",
       "    <tr style=\"text-align: right;\">\n",
       "      <th></th>\n",
       "      <th>device_width</th>\n",
       "      <th>click</th>\n",
       "      <th>device_height</th>\n",
       "      <th>device_maker_Imputed</th>\n",
       "      <th>utc_time</th>\n",
       "      <th>bidid</th>\n",
       "      <th>device_maker</th>\n",
       "      <th>app_id</th>\n",
       "    </tr>\n",
       "  </thead>\n",
       "  <tbody>\n",
       "    <tr>\n",
       "      <td>1239809</td>\n",
       "      <td>1280</td>\n",
       "      <td>0</td>\n",
       "      <td>720</td>\n",
       "      <td>1</td>\n",
       "      <td>2018-08-13 00:08:50.409</td>\n",
       "      <td>5e7e1f10-2e8f-4fed-b3f3-5223a0170575</td>\n",
       "      <td>Samsung</td>\n",
       "      <td>com.fivestargames.slots</td>\n",
       "    </tr>\n",
       "    <tr>\n",
       "      <td>912553</td>\n",
       "      <td>1280</td>\n",
       "      <td>0</td>\n",
       "      <td>720</td>\n",
       "      <td>0</td>\n",
       "      <td>2018-09-30 22:07:06.338</td>\n",
       "      <td>d5264be3-1354-4974-9f1c-88da89cfa600</td>\n",
       "      <td>LG</td>\n",
       "      <td>com.luckyjackpotcasino.kenocasino</td>\n",
       "    </tr>\n",
       "    <tr>\n",
       "      <td>2408779</td>\n",
       "      <td>1440</td>\n",
       "      <td>0</td>\n",
       "      <td>2560</td>\n",
       "      <td>1</td>\n",
       "      <td>2018-08-30 20:26:02.213</td>\n",
       "      <td>fdfbb3ae-d15b-4064-8130-ab958509fc91</td>\n",
       "      <td>Samsung</td>\n",
       "      <td>in.playsimple.wordtrip</td>\n",
       "    </tr>\n",
       "    <tr>\n",
       "      <td>40988</td>\n",
       "      <td>1080</td>\n",
       "      <td>0</td>\n",
       "      <td>1920</td>\n",
       "      <td>1</td>\n",
       "      <td>2018-08-31 15:27:51.331</td>\n",
       "      <td>d8a271d8-cacd-4b7c-a62f-cec8aafb17ac</td>\n",
       "      <td>Samsung</td>\n",
       "      <td>com.ketchapp.knifehit</td>\n",
       "    </tr>\n",
       "    <tr>\n",
       "      <td>2180645</td>\n",
       "      <td>1280</td>\n",
       "      <td>0</td>\n",
       "      <td>720</td>\n",
       "      <td>0</td>\n",
       "      <td>2018-10-06 04:06:49.749</td>\n",
       "      <td>36b3017d-34c7-4738-a96a-8b3a121821bd</td>\n",
       "      <td>Samsung</td>\n",
       "      <td>com.GS.Superhero.Tricky.bikerace.kidsgames</td>\n",
       "    </tr>\n",
       "  </tbody>\n",
       "</table>\n",
       "</div>"
      ],
      "text/plain": [
       "         device_width  click  device_height  device_maker_Imputed  \\\n",
       "1239809          1280      0            720                     1   \n",
       "912553           1280      0            720                     0   \n",
       "2408779          1440      0           2560                     1   \n",
       "40988            1080      0           1920                     1   \n",
       "2180645          1280      0            720                     0   \n",
       "\n",
       "                       utc_time                                 bidid  \\\n",
       "1239809 2018-08-13 00:08:50.409  5e7e1f10-2e8f-4fed-b3f3-5223a0170575   \n",
       "912553  2018-09-30 22:07:06.338  d5264be3-1354-4974-9f1c-88da89cfa600   \n",
       "2408779 2018-08-30 20:26:02.213  fdfbb3ae-d15b-4064-8130-ab958509fc91   \n",
       "40988   2018-08-31 15:27:51.331  d8a271d8-cacd-4b7c-a62f-cec8aafb17ac   \n",
       "2180645 2018-10-06 04:06:49.749  36b3017d-34c7-4738-a96a-8b3a121821bd   \n",
       "\n",
       "        device_maker                                      app_id  \n",
       "1239809      Samsung                     com.fivestargames.slots  \n",
       "912553            LG           com.luckyjackpotcasino.kenocasino  \n",
       "2408779      Samsung                      in.playsimple.wordtrip  \n",
       "40988        Samsung                       com.ketchapp.knifehit  \n",
       "2180645      Samsung  com.GS.Superhero.Tricky.bikerace.kidsgames  "
      ]
     },
     "execution_count": 31,
     "metadata": {},
     "output_type": "execute_result"
    }
   ],
   "source": [
    "train_df_clean_filtered['utc_time'] = pd.to_datetime(train_df_clean_filtered['utc_time'], unit='ms')\n",
    "train_df_clean_filtered.head()"
   ]
  },
  {
   "cell_type": "markdown",
   "metadata": {},
   "source": [
    "First let's add a day of week"
   ]
  },
  {
   "cell_type": "code",
   "execution_count": 32,
   "metadata": {},
   "outputs": [
    {
     "name": "stderr",
     "output_type": "stream",
     "text": [
      "C:\\Users\\danii\\Anaconda3\\lib\\site-packages\\ipykernel_launcher.py:1: SettingWithCopyWarning: \n",
      "A value is trying to be set on a copy of a slice from a DataFrame.\n",
      "Try using .loc[row_indexer,col_indexer] = value instead\n",
      "\n",
      "See the caveats in the documentation: http://pandas.pydata.org/pandas-docs/stable/user_guide/indexing.html#returning-a-view-versus-a-copy\n",
      "  \"\"\"Entry point for launching an IPython kernel.\n"
     ]
    },
    {
     "data": {
      "text/plain": [
       "1239809    0\n",
       "912553     6\n",
       "2408779    3\n",
       "40988      4\n",
       "2180645    5\n",
       "Name: day_of_week, dtype: int64"
      ]
     },
     "execution_count": 32,
     "metadata": {},
     "output_type": "execute_result"
    }
   ],
   "source": [
    "train_df_clean_filtered['day_of_week'] = train_df_clean_filtered['utc_time'].dt.weekday\n",
    "train_df_clean_filtered['day_of_week'].head()"
   ]
  },
  {
   "cell_type": "markdown",
   "metadata": {},
   "source": [
    "Next I'll add a month"
   ]
  },
  {
   "cell_type": "code",
   "execution_count": 33,
   "metadata": {},
   "outputs": [
    {
     "name": "stderr",
     "output_type": "stream",
     "text": [
      "C:\\Users\\danii\\Anaconda3\\lib\\site-packages\\ipykernel_launcher.py:1: SettingWithCopyWarning: \n",
      "A value is trying to be set on a copy of a slice from a DataFrame.\n",
      "Try using .loc[row_indexer,col_indexer] = value instead\n",
      "\n",
      "See the caveats in the documentation: http://pandas.pydata.org/pandas-docs/stable/user_guide/indexing.html#returning-a-view-versus-a-copy\n",
      "  \"\"\"Entry point for launching an IPython kernel.\n"
     ]
    },
    {
     "data": {
      "text/plain": [
       "1239809     8\n",
       "912553      9\n",
       "2408779     8\n",
       "40988       8\n",
       "2180645    10\n",
       "Name: month, dtype: int64"
      ]
     },
     "execution_count": 33,
     "metadata": {},
     "output_type": "execute_result"
    }
   ],
   "source": [
    "train_df_clean_filtered['month'] = train_df_clean_filtered['utc_time'].dt.month\n",
    "train_df_clean_filtered['month'].head()"
   ]
  },
  {
   "cell_type": "markdown",
   "metadata": {},
   "source": [
    "And finally let's add an hour of the day, which also can influence the target variable."
   ]
  },
  {
   "cell_type": "code",
   "execution_count": 34,
   "metadata": {},
   "outputs": [
    {
     "name": "stderr",
     "output_type": "stream",
     "text": [
      "C:\\Users\\danii\\Anaconda3\\lib\\site-packages\\ipykernel_launcher.py:1: SettingWithCopyWarning: \n",
      "A value is trying to be set on a copy of a slice from a DataFrame.\n",
      "Try using .loc[row_indexer,col_indexer] = value instead\n",
      "\n",
      "See the caveats in the documentation: http://pandas.pydata.org/pandas-docs/stable/user_guide/indexing.html#returning-a-view-versus-a-copy\n",
      "  \"\"\"Entry point for launching an IPython kernel.\n"
     ]
    },
    {
     "data": {
      "text/plain": [
       "1239809     0\n",
       "912553     22\n",
       "2408779    20\n",
       "40988      15\n",
       "2180645     4\n",
       "Name: hour, dtype: int64"
      ]
     },
     "execution_count": 34,
     "metadata": {},
     "output_type": "execute_result"
    }
   ],
   "source": [
    "train_df_clean_filtered['hour'] = train_df_clean_filtered['utc_time'].dt.hour\n",
    "train_df_clean_filtered['hour'].head()"
   ]
  },
  {
   "cell_type": "markdown",
   "metadata": {},
   "source": [
    "Finally remove the `utc_time` column."
   ]
  },
  {
   "cell_type": "code",
   "execution_count": 35,
   "metadata": {},
   "outputs": [
    {
     "name": "stderr",
     "output_type": "stream",
     "text": [
      "C:\\Users\\danii\\Anaconda3\\lib\\site-packages\\pandas\\core\\frame.py:4102: SettingWithCopyWarning: \n",
      "A value is trying to be set on a copy of a slice from a DataFrame\n",
      "\n",
      "See the caveats in the documentation: http://pandas.pydata.org/pandas-docs/stable/user_guide/indexing.html#returning-a-view-versus-a-copy\n",
      "  errors=errors,\n"
     ]
    }
   ],
   "source": [
    "train_df_clean_filtered.drop(['utc_time'], axis=1, inplace=True)"
   ]
  },
  {
   "cell_type": "code",
   "execution_count": 36,
   "metadata": {
    "scrolled": true
   },
   "outputs": [
    {
     "data": {
      "text/html": [
       "<div>\n",
       "<style scoped>\n",
       "    .dataframe tbody tr th:only-of-type {\n",
       "        vertical-align: middle;\n",
       "    }\n",
       "\n",
       "    .dataframe tbody tr th {\n",
       "        vertical-align: top;\n",
       "    }\n",
       "\n",
       "    .dataframe thead th {\n",
       "        text-align: right;\n",
       "    }\n",
       "</style>\n",
       "<table border=\"1\" class=\"dataframe\">\n",
       "  <thead>\n",
       "    <tr style=\"text-align: right;\">\n",
       "      <th></th>\n",
       "      <th>device_width</th>\n",
       "      <th>click</th>\n",
       "      <th>device_height</th>\n",
       "      <th>device_maker_Imputed</th>\n",
       "      <th>bidid</th>\n",
       "      <th>device_maker</th>\n",
       "      <th>app_id</th>\n",
       "      <th>day_of_week</th>\n",
       "      <th>month</th>\n",
       "      <th>hour</th>\n",
       "    </tr>\n",
       "  </thead>\n",
       "  <tbody>\n",
       "    <tr>\n",
       "      <td>1239809</td>\n",
       "      <td>1280</td>\n",
       "      <td>0</td>\n",
       "      <td>720</td>\n",
       "      <td>1</td>\n",
       "      <td>5e7e1f10-2e8f-4fed-b3f3-5223a0170575</td>\n",
       "      <td>Samsung</td>\n",
       "      <td>com.fivestargames.slots</td>\n",
       "      <td>0</td>\n",
       "      <td>8</td>\n",
       "      <td>0</td>\n",
       "    </tr>\n",
       "    <tr>\n",
       "      <td>912553</td>\n",
       "      <td>1280</td>\n",
       "      <td>0</td>\n",
       "      <td>720</td>\n",
       "      <td>0</td>\n",
       "      <td>d5264be3-1354-4974-9f1c-88da89cfa600</td>\n",
       "      <td>LG</td>\n",
       "      <td>com.luckyjackpotcasino.kenocasino</td>\n",
       "      <td>6</td>\n",
       "      <td>9</td>\n",
       "      <td>22</td>\n",
       "    </tr>\n",
       "    <tr>\n",
       "      <td>2408779</td>\n",
       "      <td>1440</td>\n",
       "      <td>0</td>\n",
       "      <td>2560</td>\n",
       "      <td>1</td>\n",
       "      <td>fdfbb3ae-d15b-4064-8130-ab958509fc91</td>\n",
       "      <td>Samsung</td>\n",
       "      <td>in.playsimple.wordtrip</td>\n",
       "      <td>3</td>\n",
       "      <td>8</td>\n",
       "      <td>20</td>\n",
       "    </tr>\n",
       "    <tr>\n",
       "      <td>40988</td>\n",
       "      <td>1080</td>\n",
       "      <td>0</td>\n",
       "      <td>1920</td>\n",
       "      <td>1</td>\n",
       "      <td>d8a271d8-cacd-4b7c-a62f-cec8aafb17ac</td>\n",
       "      <td>Samsung</td>\n",
       "      <td>com.ketchapp.knifehit</td>\n",
       "      <td>4</td>\n",
       "      <td>8</td>\n",
       "      <td>15</td>\n",
       "    </tr>\n",
       "    <tr>\n",
       "      <td>2180645</td>\n",
       "      <td>1280</td>\n",
       "      <td>0</td>\n",
       "      <td>720</td>\n",
       "      <td>0</td>\n",
       "      <td>36b3017d-34c7-4738-a96a-8b3a121821bd</td>\n",
       "      <td>Samsung</td>\n",
       "      <td>com.GS.Superhero.Tricky.bikerace.kidsgames</td>\n",
       "      <td>5</td>\n",
       "      <td>10</td>\n",
       "      <td>4</td>\n",
       "    </tr>\n",
       "  </tbody>\n",
       "</table>\n",
       "</div>"
      ],
      "text/plain": [
       "         device_width  click  device_height  device_maker_Imputed  \\\n",
       "1239809          1280      0            720                     1   \n",
       "912553           1280      0            720                     0   \n",
       "2408779          1440      0           2560                     1   \n",
       "40988            1080      0           1920                     1   \n",
       "2180645          1280      0            720                     0   \n",
       "\n",
       "                                        bidid device_maker  \\\n",
       "1239809  5e7e1f10-2e8f-4fed-b3f3-5223a0170575      Samsung   \n",
       "912553   d5264be3-1354-4974-9f1c-88da89cfa600           LG   \n",
       "2408779  fdfbb3ae-d15b-4064-8130-ab958509fc91      Samsung   \n",
       "40988    d8a271d8-cacd-4b7c-a62f-cec8aafb17ac      Samsung   \n",
       "2180645  36b3017d-34c7-4738-a96a-8b3a121821bd      Samsung   \n",
       "\n",
       "                                             app_id  day_of_week  month  hour  \n",
       "1239809                     com.fivestargames.slots            0      8     0  \n",
       "912553            com.luckyjackpotcasino.kenocasino            6      9    22  \n",
       "2408779                      in.playsimple.wordtrip            3      8    20  \n",
       "40988                         com.ketchapp.knifehit            4      8    15  \n",
       "2180645  com.GS.Superhero.Tricky.bikerace.kidsgames            5     10     4  "
      ]
     },
     "execution_count": 36,
     "metadata": {},
     "output_type": "execute_result"
    }
   ],
   "source": [
    "train_df_clean_filtered.head()"
   ]
  },
  {
   "cell_type": "markdown",
   "metadata": {},
   "source": [
    "Let's define a function that will generate these features:"
   ]
  },
  {
   "cell_type": "code",
   "execution_count": 37,
   "metadata": {},
   "outputs": [],
   "source": [
    "def add_features(df):\n",
    "    df['utc_time'] = pd.to_datetime(df['utc_time'], unit='ms')\n",
    "    df['day_of_week'] = df['utc_time'].dt.weekday\n",
    "    df['month'] = df['utc_time'].dt.month\n",
    "    df['hour'] = df['utc_time'].dt.hour\n",
    "    df.drop(['utc_time'], axis=1, inplace=True)\n",
    "    return df"
   ]
  },
  {
   "cell_type": "markdown",
   "metadata": {},
   "source": [
    "# 5. Building the model"
   ]
  },
  {
   "cell_type": "markdown",
   "metadata": {},
   "source": [
    "Import the necessary modules"
   ]
  },
  {
   "cell_type": "code",
   "execution_count": 66,
   "metadata": {},
   "outputs": [],
   "source": [
    "from sklearn.neighbors import KNeighborsClassifier\n",
    "from sklearn.metrics import classification_report, confusion_matrix, f1_score\n",
    "from sklearn.pipeline import make_pipeline\n",
    "from sklearn.preprocessing import StandardScaler, LabelEncoder\n",
    "from sklearn.model_selection import GridSearchCV"
   ]
  },
  {
   "cell_type": "markdown",
   "metadata": {},
   "source": [
    "For encoding the categorical variables, Label encoder will be used. It's the most suitable encoder for categorical features with multiple classes."
   ]
  },
  {
   "cell_type": "code",
   "execution_count": 67,
   "metadata": {},
   "outputs": [],
   "source": [
    "def encode_data(df):\n",
    "    cat_cols = df.select_dtypes(include=['object'])\n",
    "    for col in cat_cols:\n",
    "        le = LabelEncoder()\n",
    "        df[col] = le.fit_transform(df[col].apply(lambda x: str(x)))\n",
    "        \n",
    "    return df"
   ]
  },
  {
   "cell_type": "code",
   "execution_count": 68,
   "metadata": {},
   "outputs": [],
   "source": [
    "train_df_clean_filtered = encode_data(train_df_clean_filtered)"
   ]
  },
  {
   "cell_type": "markdown",
   "metadata": {},
   "source": [
    "Create training and test sets"
   ]
  },
  {
   "cell_type": "code",
   "execution_count": 69,
   "metadata": {},
   "outputs": [],
   "source": [
    "X_train, X_test, y_train, y_test = train_test_split(train_df_clean_filtered.drop(['click'], axis=1),\n",
    "                                                    train_df_clean_filtered['click'], \n",
    "                                                    test_size = 0.25, random_state=42)"
   ]
  },
  {
   "cell_type": "markdown",
   "metadata": {},
   "source": [
    "Create pipeline with StandardScaler and LogisticRegression"
   ]
  },
  {
   "cell_type": "code",
   "execution_count": 70,
   "metadata": {},
   "outputs": [],
   "source": [
    "logreg = make_pipeline(StandardScaler(), KNeighborsClassifier())"
   ]
  },
  {
   "cell_type": "markdown",
   "metadata": {},
   "source": [
    "Fit the pipeline"
   ]
  },
  {
   "cell_type": "code",
   "execution_count": null,
   "metadata": {},
   "outputs": [],
   "source": [
    "logreg.fit(X_train, y_train)"
   ]
  },
  {
   "cell_type": "markdown",
   "metadata": {},
   "source": [
    "Predict the labels of the test set: y_pred"
   ]
  },
  {
   "cell_type": "code",
   "execution_count": null,
   "metadata": {},
   "outputs": [],
   "source": [
    "y_pred = logreg.predict(X_test)"
   ]
  },
  {
   "cell_type": "markdown",
   "metadata": {},
   "source": [
    "Compute and print metrics"
   ]
  },
  {
   "cell_type": "code",
   "execution_count": null,
   "metadata": {},
   "outputs": [],
   "source": [
    "print(\"Accuracy: {}\".format(logreg.score(X_test, y_test)))"
   ]
  },
  {
   "cell_type": "markdown",
   "metadata": {},
   "source": [
    "Compute and print the confusion matrix and classification report"
   ]
  },
  {
   "cell_type": "code",
   "execution_count": 46,
   "metadata": {},
   "outputs": [
    {
     "name": "stdout",
     "output_type": "stream",
     "text": [
      "[[477079      0]\n",
      " [ 34599      0]]\n"
     ]
    },
    {
     "name": "stderr",
     "output_type": "stream",
     "text": [
      "C:\\Users\\danii\\Anaconda3\\lib\\site-packages\\sklearn\\metrics\\classification.py:1437: UndefinedMetricWarning: Precision and F-score are ill-defined and being set to 0.0 in labels with no predicted samples.\n",
      "  'precision', 'predicted', average, warn_for)\n"
     ]
    },
    {
     "name": "stdout",
     "output_type": "stream",
     "text": [
      "              precision    recall  f1-score   support\n",
      "\n",
      "           0       0.93      1.00      0.97    477079\n",
      "           1       0.00      0.00      0.00     34599\n",
      "\n",
      "    accuracy                           0.93    511678\n",
      "   macro avg       0.47      0.50      0.48    511678\n",
      "weighted avg       0.87      0.93      0.90    511678\n",
      "\n"
     ]
    }
   ],
   "source": [
    "print(confusion_matrix(y_test, y_pred))\n",
    "print(classification_report(y_test, y_pred))"
   ]
  },
  {
   "cell_type": "code",
   "execution_count": 62,
   "metadata": {},
   "outputs": [
    {
     "name": "stderr",
     "output_type": "stream",
     "text": [
      "C:\\Users\\danii\\Anaconda3\\lib\\site-packages\\sklearn\\metrics\\classification.py:1437: UndefinedMetricWarning: F-score is ill-defined and being set to 0.0 due to no predicted samples.\n",
      "  'precision', 'predicted', average, warn_for)\n",
      "C:\\Users\\danii\\Anaconda3\\lib\\site-packages\\sklearn\\metrics\\classification.py:1437: UndefinedMetricWarning: F-score is ill-defined and being set to 0.0 due to no predicted samples.\n",
      "  'precision', 'predicted', average, warn_for)\n",
      "C:\\Users\\danii\\Anaconda3\\lib\\site-packages\\sklearn\\metrics\\classification.py:1437: UndefinedMetricWarning: F-score is ill-defined and being set to 0.0 due to no predicted samples.\n",
      "  'precision', 'predicted', average, warn_for)\n",
      "C:\\Users\\danii\\Anaconda3\\lib\\site-packages\\sklearn\\metrics\\classification.py:1437: UndefinedMetricWarning: F-score is ill-defined and being set to 0.0 due to no predicted samples.\n",
      "  'precision', 'predicted', average, warn_for)\n",
      "C:\\Users\\danii\\Anaconda3\\lib\\site-packages\\sklearn\\metrics\\classification.py:1437: UndefinedMetricWarning: F-score is ill-defined and being set to 0.0 due to no predicted samples.\n",
      "  'precision', 'predicted', average, warn_for)\n",
      "C:\\Users\\danii\\Anaconda3\\lib\\site-packages\\sklearn\\metrics\\classification.py:1437: UndefinedMetricWarning: F-score is ill-defined and being set to 0.0 due to no predicted samples.\n",
      "  'precision', 'predicted', average, warn_for)\n",
      "C:\\Users\\danii\\Anaconda3\\lib\\site-packages\\sklearn\\metrics\\classification.py:1437: UndefinedMetricWarning: F-score is ill-defined and being set to 0.0 due to no predicted samples.\n",
      "  'precision', 'predicted', average, warn_for)\n",
      "C:\\Users\\danii\\Anaconda3\\lib\\site-packages\\sklearn\\metrics\\classification.py:1437: UndefinedMetricWarning: F-score is ill-defined and being set to 0.0 due to no predicted samples.\n",
      "  'precision', 'predicted', average, warn_for)\n",
      "C:\\Users\\danii\\Anaconda3\\lib\\site-packages\\sklearn\\metrics\\classification.py:1437: UndefinedMetricWarning: F-score is ill-defined and being set to 0.0 due to no predicted samples.\n",
      "  'precision', 'predicted', average, warn_for)\n",
      "C:\\Users\\danii\\Anaconda3\\lib\\site-packages\\sklearn\\metrics\\classification.py:1437: UndefinedMetricWarning: F-score is ill-defined and being set to 0.0 due to no predicted samples.\n",
      "  'precision', 'predicted', average, warn_for)\n",
      "C:\\Users\\danii\\Anaconda3\\lib\\site-packages\\sklearn\\metrics\\classification.py:1437: UndefinedMetricWarning: F-score is ill-defined and being set to 0.0 due to no predicted samples.\n",
      "  'precision', 'predicted', average, warn_for)\n",
      "C:\\Users\\danii\\Anaconda3\\lib\\site-packages\\sklearn\\metrics\\classification.py:1437: UndefinedMetricWarning: F-score is ill-defined and being set to 0.0 due to no predicted samples.\n",
      "  'precision', 'predicted', average, warn_for)\n",
      "C:\\Users\\danii\\Anaconda3\\lib\\site-packages\\sklearn\\metrics\\classification.py:1437: UndefinedMetricWarning: F-score is ill-defined and being set to 0.0 due to no predicted samples.\n",
      "  'precision', 'predicted', average, warn_for)\n",
      "C:\\Users\\danii\\Anaconda3\\lib\\site-packages\\sklearn\\metrics\\classification.py:1437: UndefinedMetricWarning: F-score is ill-defined and being set to 0.0 due to no predicted samples.\n",
      "  'precision', 'predicted', average, warn_for)\n",
      "C:\\Users\\danii\\Anaconda3\\lib\\site-packages\\sklearn\\metrics\\classification.py:1437: UndefinedMetricWarning: F-score is ill-defined and being set to 0.0 due to no predicted samples.\n",
      "  'precision', 'predicted', average, warn_for)\n",
      "C:\\Users\\danii\\Anaconda3\\lib\\site-packages\\sklearn\\metrics\\classification.py:1437: UndefinedMetricWarning: F-score is ill-defined and being set to 0.0 due to no predicted samples.\n",
      "  'precision', 'predicted', average, warn_for)\n",
      "C:\\Users\\danii\\Anaconda3\\lib\\site-packages\\sklearn\\metrics\\classification.py:1437: UndefinedMetricWarning: F-score is ill-defined and being set to 0.0 due to no predicted samples.\n",
      "  'precision', 'predicted', average, warn_for)\n",
      "C:\\Users\\danii\\Anaconda3\\lib\\site-packages\\sklearn\\metrics\\classification.py:1437: UndefinedMetricWarning: F-score is ill-defined and being set to 0.0 due to no predicted samples.\n",
      "  'precision', 'predicted', average, warn_for)\n",
      "C:\\Users\\danii\\Anaconda3\\lib\\site-packages\\sklearn\\metrics\\classification.py:1437: UndefinedMetricWarning: F-score is ill-defined and being set to 0.0 due to no predicted samples.\n",
      "  'precision', 'predicted', average, warn_for)\n",
      "C:\\Users\\danii\\Anaconda3\\lib\\site-packages\\sklearn\\metrics\\classification.py:1437: UndefinedMetricWarning: F-score is ill-defined and being set to 0.0 due to no predicted samples.\n",
      "  'precision', 'predicted', average, warn_for)\n",
      "C:\\Users\\danii\\Anaconda3\\lib\\site-packages\\sklearn\\metrics\\classification.py:1437: UndefinedMetricWarning: F-score is ill-defined and being set to 0.0 due to no predicted samples.\n",
      "  'precision', 'predicted', average, warn_for)\n",
      "C:\\Users\\danii\\Anaconda3\\lib\\site-packages\\sklearn\\metrics\\classification.py:1437: UndefinedMetricWarning: F-score is ill-defined and being set to 0.0 due to no predicted samples.\n",
      "  'precision', 'predicted', average, warn_for)\n",
      "C:\\Users\\danii\\Anaconda3\\lib\\site-packages\\sklearn\\metrics\\classification.py:1437: UndefinedMetricWarning: F-score is ill-defined and being set to 0.0 due to no predicted samples.\n",
      "  'precision', 'predicted', average, warn_for)\n",
      "C:\\Users\\danii\\Anaconda3\\lib\\site-packages\\sklearn\\metrics\\classification.py:1437: UndefinedMetricWarning: F-score is ill-defined and being set to 0.0 due to no predicted samples.\n",
      "  'precision', 'predicted', average, warn_for)\n",
      "C:\\Users\\danii\\Anaconda3\\lib\\site-packages\\sklearn\\metrics\\classification.py:1437: UndefinedMetricWarning: F-score is ill-defined and being set to 0.0 due to no predicted samples.\n",
      "  'precision', 'predicted', average, warn_for)\n",
      "C:\\Users\\danii\\Anaconda3\\lib\\site-packages\\sklearn\\metrics\\classification.py:1437: UndefinedMetricWarning: F-score is ill-defined and being set to 0.0 due to no predicted samples.\n",
      "  'precision', 'predicted', average, warn_for)\n",
      "C:\\Users\\danii\\Anaconda3\\lib\\site-packages\\sklearn\\metrics\\classification.py:1437: UndefinedMetricWarning: F-score is ill-defined and being set to 0.0 due to no predicted samples.\n",
      "  'precision', 'predicted', average, warn_for)\n",
      "C:\\Users\\danii\\Anaconda3\\lib\\site-packages\\sklearn\\metrics\\classification.py:1437: UndefinedMetricWarning: F-score is ill-defined and being set to 0.0 due to no predicted samples.\n",
      "  'precision', 'predicted', average, warn_for)\n",
      "C:\\Users\\danii\\Anaconda3\\lib\\site-packages\\sklearn\\metrics\\classification.py:1437: UndefinedMetricWarning: F-score is ill-defined and being set to 0.0 due to no predicted samples.\n",
      "  'precision', 'predicted', average, warn_for)\n",
      "C:\\Users\\danii\\Anaconda3\\lib\\site-packages\\sklearn\\metrics\\classification.py:1437: UndefinedMetricWarning: F-score is ill-defined and being set to 0.0 due to no predicted samples.\n",
      "  'precision', 'predicted', average, warn_for)\n",
      "C:\\Users\\danii\\Anaconda3\\lib\\site-packages\\sklearn\\metrics\\classification.py:1437: UndefinedMetricWarning: F-score is ill-defined and being set to 0.0 due to no predicted samples.\n",
      "  'precision', 'predicted', average, warn_for)\n",
      "C:\\Users\\danii\\Anaconda3\\lib\\site-packages\\sklearn\\metrics\\classification.py:1437: UndefinedMetricWarning: F-score is ill-defined and being set to 0.0 due to no predicted samples.\n",
      "  'precision', 'predicted', average, warn_for)\n",
      "C:\\Users\\danii\\Anaconda3\\lib\\site-packages\\sklearn\\metrics\\classification.py:1437: UndefinedMetricWarning: F-score is ill-defined and being set to 0.0 due to no predicted samples.\n",
      "  'precision', 'predicted', average, warn_for)\n",
      "C:\\Users\\danii\\Anaconda3\\lib\\site-packages\\sklearn\\metrics\\classification.py:1437: UndefinedMetricWarning: F-score is ill-defined and being set to 0.0 due to no predicted samples.\n",
      "  'precision', 'predicted', average, warn_for)\n",
      "C:\\Users\\danii\\Anaconda3\\lib\\site-packages\\sklearn\\metrics\\classification.py:1437: UndefinedMetricWarning: F-score is ill-defined and being set to 0.0 due to no predicted samples.\n",
      "  'precision', 'predicted', average, warn_for)\n",
      "C:\\Users\\danii\\Anaconda3\\lib\\site-packages\\sklearn\\metrics\\classification.py:1437: UndefinedMetricWarning: F-score is ill-defined and being set to 0.0 due to no predicted samples.\n",
      "  'precision', 'predicted', average, warn_for)\n",
      "C:\\Users\\danii\\Anaconda3\\lib\\site-packages\\sklearn\\metrics\\classification.py:1437: UndefinedMetricWarning: F-score is ill-defined and being set to 0.0 due to no predicted samples.\n",
      "  'precision', 'predicted', average, warn_for)\n"
     ]
    },
    {
     "name": "stderr",
     "output_type": "stream",
     "text": [
      "C:\\Users\\danii\\Anaconda3\\lib\\site-packages\\sklearn\\metrics\\classification.py:1437: UndefinedMetricWarning: F-score is ill-defined and being set to 0.0 due to no predicted samples.\n",
      "  'precision', 'predicted', average, warn_for)\n",
      "C:\\Users\\danii\\Anaconda3\\lib\\site-packages\\sklearn\\metrics\\classification.py:1437: UndefinedMetricWarning: F-score is ill-defined and being set to 0.0 due to no predicted samples.\n",
      "  'precision', 'predicted', average, warn_for)\n",
      "C:\\Users\\danii\\Anaconda3\\lib\\site-packages\\sklearn\\metrics\\classification.py:1437: UndefinedMetricWarning: F-score is ill-defined and being set to 0.0 due to no predicted samples.\n",
      "  'precision', 'predicted', average, warn_for)\n",
      "C:\\Users\\danii\\Anaconda3\\lib\\site-packages\\sklearn\\metrics\\classification.py:1437: UndefinedMetricWarning: F-score is ill-defined and being set to 0.0 due to no predicted samples.\n",
      "  'precision', 'predicted', average, warn_for)\n",
      "C:\\Users\\danii\\Anaconda3\\lib\\site-packages\\sklearn\\metrics\\classification.py:1437: UndefinedMetricWarning: F-score is ill-defined and being set to 0.0 due to no predicted samples.\n",
      "  'precision', 'predicted', average, warn_for)\n",
      "C:\\Users\\danii\\Anaconda3\\lib\\site-packages\\sklearn\\metrics\\classification.py:1437: UndefinedMetricWarning: F-score is ill-defined and being set to 0.0 due to no predicted samples.\n",
      "  'precision', 'predicted', average, warn_for)\n",
      "C:\\Users\\danii\\Anaconda3\\lib\\site-packages\\sklearn\\metrics\\classification.py:1437: UndefinedMetricWarning: F-score is ill-defined and being set to 0.0 due to no predicted samples.\n",
      "  'precision', 'predicted', average, warn_for)\n",
      "C:\\Users\\danii\\Anaconda3\\lib\\site-packages\\sklearn\\metrics\\classification.py:1437: UndefinedMetricWarning: F-score is ill-defined and being set to 0.0 due to no predicted samples.\n",
      "  'precision', 'predicted', average, warn_for)\n",
      "C:\\Users\\danii\\Anaconda3\\lib\\site-packages\\sklearn\\metrics\\classification.py:1437: UndefinedMetricWarning: F-score is ill-defined and being set to 0.0 due to no predicted samples.\n",
      "  'precision', 'predicted', average, warn_for)\n",
      "C:\\Users\\danii\\Anaconda3\\lib\\site-packages\\sklearn\\metrics\\classification.py:1437: UndefinedMetricWarning: F-score is ill-defined and being set to 0.0 due to no predicted samples.\n",
      "  'precision', 'predicted', average, warn_for)\n",
      "C:\\Users\\danii\\Anaconda3\\lib\\site-packages\\sklearn\\metrics\\classification.py:1437: UndefinedMetricWarning: F-score is ill-defined and being set to 0.0 due to no predicted samples.\n",
      "  'precision', 'predicted', average, warn_for)\n",
      "C:\\Users\\danii\\Anaconda3\\lib\\site-packages\\sklearn\\metrics\\classification.py:1437: UndefinedMetricWarning: F-score is ill-defined and being set to 0.0 due to no predicted samples.\n",
      "  'precision', 'predicted', average, warn_for)\n",
      "C:\\Users\\danii\\Anaconda3\\lib\\site-packages\\sklearn\\metrics\\classification.py:1437: UndefinedMetricWarning: F-score is ill-defined and being set to 0.0 due to no predicted samples.\n",
      "  'precision', 'predicted', average, warn_for)\n",
      "C:\\Users\\danii\\Anaconda3\\lib\\site-packages\\sklearn\\metrics\\classification.py:1437: UndefinedMetricWarning: F-score is ill-defined and being set to 0.0 due to no predicted samples.\n",
      "  'precision', 'predicted', average, warn_for)\n",
      "C:\\Users\\danii\\Anaconda3\\lib\\site-packages\\sklearn\\metrics\\classification.py:1437: UndefinedMetricWarning: F-score is ill-defined and being set to 0.0 due to no predicted samples.\n",
      "  'precision', 'predicted', average, warn_for)\n",
      "C:\\Users\\danii\\Anaconda3\\lib\\site-packages\\sklearn\\metrics\\classification.py:1437: UndefinedMetricWarning: F-score is ill-defined and being set to 0.0 due to no predicted samples.\n",
      "  'precision', 'predicted', average, warn_for)\n",
      "C:\\Users\\danii\\Anaconda3\\lib\\site-packages\\sklearn\\metrics\\classification.py:1437: UndefinedMetricWarning: F-score is ill-defined and being set to 0.0 due to no predicted samples.\n",
      "  'precision', 'predicted', average, warn_for)\n",
      "C:\\Users\\danii\\Anaconda3\\lib\\site-packages\\sklearn\\metrics\\classification.py:1437: UndefinedMetricWarning: F-score is ill-defined and being set to 0.0 due to no predicted samples.\n",
      "  'precision', 'predicted', average, warn_for)\n",
      "C:\\Users\\danii\\Anaconda3\\lib\\site-packages\\sklearn\\metrics\\classification.py:1437: UndefinedMetricWarning: F-score is ill-defined and being set to 0.0 due to no predicted samples.\n",
      "  'precision', 'predicted', average, warn_for)\n",
      "C:\\Users\\danii\\Anaconda3\\lib\\site-packages\\sklearn\\metrics\\classification.py:1437: UndefinedMetricWarning: F-score is ill-defined and being set to 0.0 due to no predicted samples.\n",
      "  'precision', 'predicted', average, warn_for)\n",
      "C:\\Users\\danii\\Anaconda3\\lib\\site-packages\\sklearn\\metrics\\classification.py:1437: UndefinedMetricWarning: F-score is ill-defined and being set to 0.0 due to no predicted samples.\n",
      "  'precision', 'predicted', average, warn_for)\n",
      "C:\\Users\\danii\\Anaconda3\\lib\\site-packages\\sklearn\\metrics\\classification.py:1437: UndefinedMetricWarning: F-score is ill-defined and being set to 0.0 due to no predicted samples.\n",
      "  'precision', 'predicted', average, warn_for)\n",
      "C:\\Users\\danii\\Anaconda3\\lib\\site-packages\\sklearn\\metrics\\classification.py:1437: UndefinedMetricWarning: F-score is ill-defined and being set to 0.0 due to no predicted samples.\n",
      "  'precision', 'predicted', average, warn_for)\n",
      "C:\\Users\\danii\\Anaconda3\\lib\\site-packages\\sklearn\\metrics\\classification.py:1437: UndefinedMetricWarning: F-score is ill-defined and being set to 0.0 due to no predicted samples.\n",
      "  'precision', 'predicted', average, warn_for)\n",
      "C:\\Users\\danii\\Anaconda3\\lib\\site-packages\\sklearn\\metrics\\classification.py:1437: UndefinedMetricWarning: F-score is ill-defined and being set to 0.0 due to no predicted samples.\n",
      "  'precision', 'predicted', average, warn_for)\n",
      "C:\\Users\\danii\\Anaconda3\\lib\\site-packages\\sklearn\\metrics\\classification.py:1437: UndefinedMetricWarning: F-score is ill-defined and being set to 0.0 due to no predicted samples.\n",
      "  'precision', 'predicted', average, warn_for)\n",
      "C:\\Users\\danii\\Anaconda3\\lib\\site-packages\\sklearn\\metrics\\classification.py:1437: UndefinedMetricWarning: F-score is ill-defined and being set to 0.0 due to no predicted samples.\n",
      "  'precision', 'predicted', average, warn_for)\n",
      "C:\\Users\\danii\\Anaconda3\\lib\\site-packages\\sklearn\\metrics\\classification.py:1437: UndefinedMetricWarning: F-score is ill-defined and being set to 0.0 due to no predicted samples.\n",
      "  'precision', 'predicted', average, warn_for)\n",
      "C:\\Users\\danii\\Anaconda3\\lib\\site-packages\\sklearn\\metrics\\classification.py:1437: UndefinedMetricWarning: F-score is ill-defined and being set to 0.0 due to no predicted samples.\n",
      "  'precision', 'predicted', average, warn_for)\n",
      "C:\\Users\\danii\\Anaconda3\\lib\\site-packages\\sklearn\\metrics\\classification.py:1437: UndefinedMetricWarning: F-score is ill-defined and being set to 0.0 due to no predicted samples.\n",
      "  'precision', 'predicted', average, warn_for)\n",
      "C:\\Users\\danii\\Anaconda3\\lib\\site-packages\\sklearn\\metrics\\classification.py:1437: UndefinedMetricWarning: F-score is ill-defined and being set to 0.0 due to no predicted samples.\n",
      "  'precision', 'predicted', average, warn_for)\n",
      "C:\\Users\\danii\\Anaconda3\\lib\\site-packages\\sklearn\\metrics\\classification.py:1437: UndefinedMetricWarning: F-score is ill-defined and being set to 0.0 due to no predicted samples.\n",
      "  'precision', 'predicted', average, warn_for)\n",
      "C:\\Users\\danii\\Anaconda3\\lib\\site-packages\\sklearn\\metrics\\classification.py:1437: UndefinedMetricWarning: F-score is ill-defined and being set to 0.0 due to no predicted samples.\n",
      "  'precision', 'predicted', average, warn_for)\n",
      "C:\\Users\\danii\\Anaconda3\\lib\\site-packages\\sklearn\\metrics\\classification.py:1437: UndefinedMetricWarning: F-score is ill-defined and being set to 0.0 due to no predicted samples.\n",
      "  'precision', 'predicted', average, warn_for)\n",
      "C:\\Users\\danii\\Anaconda3\\lib\\site-packages\\sklearn\\metrics\\classification.py:1437: UndefinedMetricWarning: F-score is ill-defined and being set to 0.0 due to no predicted samples.\n",
      "  'precision', 'predicted', average, warn_for)\n",
      "C:\\Users\\danii\\Anaconda3\\lib\\site-packages\\sklearn\\metrics\\classification.py:1437: UndefinedMetricWarning: F-score is ill-defined and being set to 0.0 due to no predicted samples.\n",
      "  'precision', 'predicted', average, warn_for)\n",
      "C:\\Users\\danii\\Anaconda3\\lib\\site-packages\\sklearn\\metrics\\classification.py:1437: UndefinedMetricWarning: F-score is ill-defined and being set to 0.0 due to no predicted samples.\n",
      "  'precision', 'predicted', average, warn_for)\n"
     ]
    },
    {
     "name": "stderr",
     "output_type": "stream",
     "text": [
      "C:\\Users\\danii\\Anaconda3\\lib\\site-packages\\sklearn\\metrics\\classification.py:1437: UndefinedMetricWarning: F-score is ill-defined and being set to 0.0 due to no predicted samples.\n",
      "  'precision', 'predicted', average, warn_for)\n",
      "C:\\Users\\danii\\Anaconda3\\lib\\site-packages\\sklearn\\metrics\\classification.py:1437: UndefinedMetricWarning: F-score is ill-defined and being set to 0.0 due to no predicted samples.\n",
      "  'precision', 'predicted', average, warn_for)\n",
      "C:\\Users\\danii\\Anaconda3\\lib\\site-packages\\sklearn\\metrics\\classification.py:1437: UndefinedMetricWarning: F-score is ill-defined and being set to 0.0 due to no predicted samples.\n",
      "  'precision', 'predicted', average, warn_for)\n",
      "C:\\Users\\danii\\Anaconda3\\lib\\site-packages\\sklearn\\metrics\\classification.py:1437: UndefinedMetricWarning: F-score is ill-defined and being set to 0.0 due to no predicted samples.\n",
      "  'precision', 'predicted', average, warn_for)\n",
      "C:\\Users\\danii\\Anaconda3\\lib\\site-packages\\sklearn\\metrics\\classification.py:1437: UndefinedMetricWarning: F-score is ill-defined and being set to 0.0 due to no predicted samples.\n",
      "  'precision', 'predicted', average, warn_for)\n",
      "C:\\Users\\danii\\Anaconda3\\lib\\site-packages\\sklearn\\metrics\\classification.py:1437: UndefinedMetricWarning: F-score is ill-defined and being set to 0.0 due to no predicted samples.\n",
      "  'precision', 'predicted', average, warn_for)\n",
      "C:\\Users\\danii\\Anaconda3\\lib\\site-packages\\sklearn\\metrics\\classification.py:1437: UndefinedMetricWarning: F-score is ill-defined and being set to 0.0 due to no predicted samples.\n",
      "  'precision', 'predicted', average, warn_for)\n",
      "C:\\Users\\danii\\Anaconda3\\lib\\site-packages\\sklearn\\metrics\\classification.py:1437: UndefinedMetricWarning: F-score is ill-defined and being set to 0.0 due to no predicted samples.\n",
      "  'precision', 'predicted', average, warn_for)\n",
      "C:\\Users\\danii\\Anaconda3\\lib\\site-packages\\sklearn\\metrics\\classification.py:1437: UndefinedMetricWarning: F-score is ill-defined and being set to 0.0 due to no predicted samples.\n",
      "  'precision', 'predicted', average, warn_for)\n"
     ]
    },
    {
     "name": "stdout",
     "output_type": "stream",
     "text": [
      "16\n"
     ]
    },
    {
     "name": "stderr",
     "output_type": "stream",
     "text": [
      "C:\\Users\\danii\\Anaconda3\\lib\\site-packages\\sklearn\\metrics\\classification.py:1437: UndefinedMetricWarning: F-score is ill-defined and being set to 0.0 due to no predicted samples.\n",
      "  'precision', 'predicted', average, warn_for)\n"
     ]
    }
   ],
   "source": [
    "accuracies = []\n",
    "f1_scores = []\n",
    "y_pred_proba = logreg.predict_proba(X_test)\n",
    "thresholds = np.arange(0, 1, 0.01)\n",
    "for t in thresholds:\n",
    "    y_pred = np.where(y_pred_proba[:, 1] > t, 1, 0)\n",
    "    accuracies.append(logreg.score(X_test, y_pred))\n",
    "    f1_scores.append(f1_score(y_test, y_pred))\n",
    "print(np.argmax(accuracies))"
   ]
  },
  {
   "cell_type": "code",
   "execution_count": 65,
   "metadata": {},
   "outputs": [
    {
     "name": "stdout",
     "output_type": "stream",
     "text": [
      "0.0\n"
     ]
    }
   ],
   "source": [
    "plt.scatter(thresholds, accuracies, label='accuracy')\n",
    "plt.scatter(thresholds, f1_scores, label='f1 score')\n",
    "plt.legend()\n",
    "plt.show()"
   ]
  },
  {
   "cell_type": "code",
   "execution_count": null,
   "metadata": {},
   "outputs": [],
   "source": []
  },
  {
   "cell_type": "markdown",
   "metadata": {},
   "source": [
    "# 6. Evaluation"
   ]
  },
  {
   "cell_type": "markdown",
   "metadata": {},
   "source": [
    "Evaluate the model on the holdout test set. First the testset had to be preprocessed using the parameters that were set on the base of the training set, then the most relevant features are filtered, after that new features are generated and finally the categorical features are encoded:"
   ]
  },
  {
   "cell_type": "code",
   "execution_count": null,
   "metadata": {},
   "outputs": [],
   "source": [
    "test_df_preprocessed = encode_data(add_features(clean_data(test_df)[columns_to_keep]))"
   ]
  },
  {
   "cell_type": "code",
   "execution_count": null,
   "metadata": {},
   "outputs": [],
   "source": [
    "list(test_df_preprocessed)"
   ]
  },
  {
   "cell_type": "code",
   "execution_count": null,
   "metadata": {},
   "outputs": [],
   "source": [
    "test_df_preprocessed.shape"
   ]
  },
  {
   "cell_type": "code",
   "execution_count": null,
   "metadata": {},
   "outputs": [],
   "source": [
    "X_test, y_test = test_df_preprocessed.drop(['click'], axis=1), test_df_preprocessed['click']"
   ]
  },
  {
   "cell_type": "markdown",
   "metadata": {},
   "source": [
    "Make predictions:"
   ]
  },
  {
   "cell_type": "code",
   "execution_count": null,
   "metadata": {},
   "outputs": [],
   "source": [
    "y_pred = logreg.predict(X_test)"
   ]
  },
  {
   "cell_type": "markdown",
   "metadata": {},
   "source": [
    "Compute and print metrics"
   ]
  },
  {
   "cell_type": "code",
   "execution_count": null,
   "metadata": {},
   "outputs": [],
   "source": [
    "print(\"Accuracy: {}\".format(logreg.score(X_test, y_test)))"
   ]
  },
  {
   "cell_type": "markdown",
   "metadata": {},
   "source": [
    "Compute and print the confusion matrix and classification report"
   ]
  },
  {
   "cell_type": "code",
   "execution_count": null,
   "metadata": {},
   "outputs": [],
   "source": [
    "print(confusion_matrix(y_test, y_pred))\n",
    "print(classification_report(y_test, y_pred))"
   ]
  },
  {
   "cell_type": "code",
   "execution_count": null,
   "metadata": {},
   "outputs": [],
   "source": []
  },
  {
   "cell_type": "code",
   "execution_count": null,
   "metadata": {},
   "outputs": [],
   "source": []
  },
  {
   "cell_type": "code",
   "execution_count": null,
   "metadata": {},
   "outputs": [],
   "source": []
  },
  {
   "cell_type": "code",
   "execution_count": null,
   "metadata": {},
   "outputs": [],
   "source": []
  },
  {
   "cell_type": "code",
   "execution_count": null,
   "metadata": {},
   "outputs": [],
   "source": []
  },
  {
   "cell_type": "code",
   "execution_count": null,
   "metadata": {},
   "outputs": [],
   "source": []
  },
  {
   "cell_type": "code",
   "execution_count": null,
   "metadata": {},
   "outputs": [],
   "source": []
  },
  {
   "cell_type": "code",
   "execution_count": null,
   "metadata": {},
   "outputs": [],
   "source": []
  },
  {
   "cell_type": "code",
   "execution_count": null,
   "metadata": {},
   "outputs": [],
   "source": []
  },
  {
   "cell_type": "markdown",
   "metadata": {},
   "source": [
    "P.S.: \n",
    "\n",
    "For working with data and building a model the highly declarative spirit of jupyter notebook is not the most convenient tool. Object-Oriented programming could make the process easier. However, the benefits of jupyter \n",
    "\n",
    "      times series model\n",
    "      \n",
    "      if more features or another categorical feature encoding we could use deep learning\n",
    "      \n",
    "      app_id - extract keywords such as ad, com, free etc."
   ]
  }
 ],
 "metadata": {
  "kernelspec": {
   "display_name": "Python 3",
   "language": "python",
   "name": "python3"
  },
  "language_info": {
   "codemirror_mode": {
    "name": "ipython",
    "version": 3
   },
   "file_extension": ".py",
   "mimetype": "text/x-python",
   "name": "python",
   "nbconvert_exporter": "python",
   "pygments_lexer": "ipython3",
   "version": "3.7.4"
  }
 },
 "nbformat": 4,
 "nbformat_minor": 2
}
