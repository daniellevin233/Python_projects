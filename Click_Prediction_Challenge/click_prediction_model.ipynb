{
 "cells": [
  {
   "cell_type": "markdown",
   "metadata": {},
   "source": [
    "# Click prediction challenge solution"
   ]
  },
  {
   "cell_type": "markdown",
   "metadata": {},
   "source": [
    "First let's import the most essential libraries"
   ]
  },
  {
   "cell_type": "code",
   "execution_count": 3,
   "metadata": {},
   "outputs": [],
   "source": [
    "import pandas as pd\n",
    "import numpy as np\n",
    "import matplotlib.pyplot as plt"
   ]
  },
  {
   "cell_type": "markdown",
   "metadata": {},
   "source": [
    "# Load the dataset"
   ]
  },
  {
   "cell_type": "markdown",
   "metadata": {},
   "source": [
    "Now, let's import the data:"
   ]
  },
  {
   "cell_type": "code",
   "execution_count": 8,
   "metadata": {},
   "outputs": [],
   "source": [
    "df = pd.read_csv('android_bids_us.csv')"
   ]
  },
  {
   "cell_type": "code",
   "execution_count": 9,
   "metadata": {},
   "outputs": [
    {
     "data": {
      "text/html": [
       "<div>\n",
       "<style scoped>\n",
       "    .dataframe tbody tr th:only-of-type {\n",
       "        vertical-align: middle;\n",
       "    }\n",
       "\n",
       "    .dataframe tbody tr th {\n",
       "        vertical-align: top;\n",
       "    }\n",
       "\n",
       "    .dataframe thead th {\n",
       "        text-align: right;\n",
       "    }\n",
       "</style>\n",
       "<table border=\"1\" class=\"dataframe\">\n",
       "  <thead>\n",
       "    <tr style=\"text-align: right;\">\n",
       "      <th></th>\n",
       "      <th>bidid</th>\n",
       "      <th>utc_time</th>\n",
       "      <th>app_id</th>\n",
       "      <th>user_state</th>\n",
       "      <th>user_isp</th>\n",
       "      <th>device_maker</th>\n",
       "      <th>device_model</th>\n",
       "      <th>device_osv</th>\n",
       "      <th>device_height</th>\n",
       "      <th>device_width</th>\n",
       "      <th>marketplace</th>\n",
       "      <th>click</th>\n",
       "    </tr>\n",
       "  </thead>\n",
       "  <tbody>\n",
       "    <tr>\n",
       "      <td>0</td>\n",
       "      <td>87b0108c-6e9f-4783-8b80-8dd5aa3529a8</td>\n",
       "      <td>1536444331894</td>\n",
       "      <td>com.OppanaGames.CarSim</td>\n",
       "      <td>TX</td>\n",
       "      <td>AT&amp;T Wireless</td>\n",
       "      <td>NaN</td>\n",
       "      <td>NaN</td>\n",
       "      <td>7.0</td>\n",
       "      <td>720</td>\n",
       "      <td>1280</td>\n",
       "      <td>chartboost</td>\n",
       "      <td>0</td>\n",
       "    </tr>\n",
       "    <tr>\n",
       "      <td>1</td>\n",
       "      <td>9284441f-a6ea-4698-9017-86436b92d416</td>\n",
       "      <td>1536444363932</td>\n",
       "      <td>com.mobilityware.CrownSolitaire</td>\n",
       "      <td>TX</td>\n",
       "      <td>T-Mobile USA</td>\n",
       "      <td>NaN</td>\n",
       "      <td>NaN</td>\n",
       "      <td>7.0</td>\n",
       "      <td>1280</td>\n",
       "      <td>720</td>\n",
       "      <td>chartboost</td>\n",
       "      <td>0</td>\n",
       "    </tr>\n",
       "    <tr>\n",
       "      <td>2</td>\n",
       "      <td>7e4779c2-f757-4324-8c2a-138b558b5a54</td>\n",
       "      <td>1536444386908</td>\n",
       "      <td>com.kuttigames.tenkyurollball</td>\n",
       "      <td>LA</td>\n",
       "      <td>AT&amp;T Wireless</td>\n",
       "      <td>NaN</td>\n",
       "      <td>NaN</td>\n",
       "      <td>7.1.1</td>\n",
       "      <td>720</td>\n",
       "      <td>1280</td>\n",
       "      <td>chartboost</td>\n",
       "      <td>0</td>\n",
       "    </tr>\n",
       "    <tr>\n",
       "      <td>3</td>\n",
       "      <td>b64ea208-38ca-42ac-895e-0842d7352cc3</td>\n",
       "      <td>1536444405023</td>\n",
       "      <td>com.trendactionfree.call_of_sniper_duty_frontl...</td>\n",
       "      <td>TN</td>\n",
       "      <td>Comcast Cable</td>\n",
       "      <td>NaN</td>\n",
       "      <td>NaN</td>\n",
       "      <td>6.0.1</td>\n",
       "      <td>720</td>\n",
       "      <td>1280</td>\n",
       "      <td>chartboost</td>\n",
       "      <td>0</td>\n",
       "    </tr>\n",
       "    <tr>\n",
       "      <td>4</td>\n",
       "      <td>fd0c07cb-31f6-408c-9315-1cb652e76abc</td>\n",
       "      <td>1536444443458</td>\n",
       "      <td>com.landslab.my3rdgrademathgames</td>\n",
       "      <td>NC</td>\n",
       "      <td>AT&amp;T U-verse</td>\n",
       "      <td>NaN</td>\n",
       "      <td>NaN</td>\n",
       "      <td>7.1.1</td>\n",
       "      <td>1024</td>\n",
       "      <td>768</td>\n",
       "      <td>chartboost</td>\n",
       "      <td>0</td>\n",
       "    </tr>\n",
       "  </tbody>\n",
       "</table>\n",
       "</div>"
      ],
      "text/plain": [
       "                                  bidid       utc_time  \\\n",
       "0  87b0108c-6e9f-4783-8b80-8dd5aa3529a8  1536444331894   \n",
       "1  9284441f-a6ea-4698-9017-86436b92d416  1536444363932   \n",
       "2  7e4779c2-f757-4324-8c2a-138b558b5a54  1536444386908   \n",
       "3  b64ea208-38ca-42ac-895e-0842d7352cc3  1536444405023   \n",
       "4  fd0c07cb-31f6-408c-9315-1cb652e76abc  1536444443458   \n",
       "\n",
       "                                              app_id user_state  \\\n",
       "0                             com.OppanaGames.CarSim         TX   \n",
       "1                    com.mobilityware.CrownSolitaire         TX   \n",
       "2                      com.kuttigames.tenkyurollball         LA   \n",
       "3  com.trendactionfree.call_of_sniper_duty_frontl...         TN   \n",
       "4                   com.landslab.my3rdgrademathgames         NC   \n",
       "\n",
       "        user_isp device_maker device_model device_osv  device_height  \\\n",
       "0  AT&T Wireless          NaN          NaN        7.0            720   \n",
       "1   T-Mobile USA          NaN          NaN        7.0           1280   \n",
       "2  AT&T Wireless          NaN          NaN      7.1.1            720   \n",
       "3  Comcast Cable          NaN          NaN      6.0.1            720   \n",
       "4   AT&T U-verse          NaN          NaN      7.1.1           1024   \n",
       "\n",
       "   device_width marketplace  click  \n",
       "0          1280  chartboost      0  \n",
       "1           720  chartboost      0  \n",
       "2          1280  chartboost      0  \n",
       "3          1280  chartboost      0  \n",
       "4           768  chartboost      0  "
      ]
     },
     "execution_count": 9,
     "metadata": {},
     "output_type": "execute_result"
    }
   ],
   "source": [
    "df.head()"
   ]
  },
  {
   "cell_type": "markdown",
   "metadata": {},
   "source": [
    "Let's inspect the data in order to get sense of how much missing data we have, which features are present and what should be modified before applying next steps"
   ]
  },
  {
   "cell_type": "code",
   "execution_count": 10,
   "metadata": {},
   "outputs": [
    {
     "data": {
      "text/plain": [
       "(3148828, 12)"
      ]
     },
     "execution_count": 10,
     "metadata": {},
     "output_type": "execute_result"
    }
   ],
   "source": [
    "df.shape"
   ]
  },
  {
   "cell_type": "markdown",
   "metadata": {},
   "source": [
    "There are over 3 millions samples, 11 features and 1 target variable. This should be enough for binary classification problem. However, the number of features might not be sufficient for training a powerful model. Thus, generating new features should be considered further. "
   ]
  },
  {
   "cell_type": "markdown",
   "metadata": {},
   "source": [
    "Verify that the column containing the target variable is valid:"
   ]
  },
  {
   "cell_type": "code",
   "execution_count": 40,
   "metadata": {},
   "outputs": [
    {
     "data": {
      "text/plain": [
       "count    3.148828e+06\n",
       "mean     6.770741e-02\n",
       "std      2.512432e-01\n",
       "min      0.000000e+00\n",
       "25%      0.000000e+00\n",
       "50%      0.000000e+00\n",
       "75%      0.000000e+00\n",
       "max      1.000000e+00\n",
       "Name: click, dtype: float64"
      ]
     },
     "execution_count": 40,
     "metadata": {},
     "output_type": "execute_result"
    }
   ],
   "source": [
    "df['click'].describe()"
   ]
  },
  {
   "cell_type": "markdown",
   "metadata": {},
   "source": [
    "The range of the values is between 0 and 1 inclusively."
   ]
  },
  {
   "cell_type": "code",
   "execution_count": 41,
   "metadata": {},
   "outputs": [
    {
     "data": {
      "text/plain": [
       "2"
      ]
     },
     "execution_count": 41,
     "metadata": {},
     "output_type": "execute_result"
    }
   ],
   "source": [
    "df['click'].nunique()"
   ]
  },
  {
   "cell_type": "markdown",
   "metadata": {},
   "source": [
    "There are only two values, combined with the max and min values we imply that they are 0 and 1"
   ]
  },
  {
   "cell_type": "code",
   "execution_count": 37,
   "metadata": {},
   "outputs": [
    {
     "data": {
      "text/plain": [
       "0"
      ]
     },
     "execution_count": 37,
     "metadata": {},
     "output_type": "execute_result"
    }
   ],
   "source": [
    "df['click'].isnull().sum()"
   ]
  },
  {
   "cell_type": "markdown",
   "metadata": {},
   "source": [
    "And finally, there are no missing values."
   ]
  },
  {
   "cell_type": "markdown",
   "metadata": {},
   "source": [
    "Let's inspect how many positively labeled samples are in the data:"
   ]
  },
  {
   "cell_type": "code",
   "execution_count": 24,
   "metadata": {},
   "outputs": [
    {
     "data": {
      "text/plain": [
       "213199"
      ]
     },
     "execution_count": 24,
     "metadata": {},
     "output_type": "execute_result"
    }
   ],
   "source": [
    "np.sum(df['click'])"
   ]
  },
  {
   "cell_type": "markdown",
   "metadata": {},
   "source": [
    "For further reuse, define a function that gets a dataframe containing 'click' column as an input and outputs the rate of positive labels in the given dataframe:"
   ]
  },
  {
   "cell_type": "code",
   "execution_count": 42,
   "metadata": {},
   "outputs": [
    {
     "data": {
      "text/plain": [
       "0.06770741367899422"
      ]
     },
     "execution_count": 42,
     "metadata": {},
     "output_type": "execute_result"
    }
   ],
   "source": [
    "# count the rate of positive labels\n",
    "def positive_labels_rate(df):\n",
    "    return np.sum(df['click']) / df.shape[0]\n",
    "positive_labels_rate(df)"
   ]
  },
  {
   "cell_type": "markdown",
   "metadata": {},
   "source": [
    "Only about 7% of the samples are labeled positively"
   ]
  },
  {
   "cell_type": "markdown",
   "metadata": {},
   "source": [
    "Before we start modifying the dataset, let's put aside a holdout test set. This is important to preserve its natural essence - as it would arrive as unseen data. The number of samples allows us to holdout a bigger test set, we should only verify that the rate of positive labels remains:"
   ]
  },
  {
   "cell_type": "code",
   "execution_count": 31,
   "metadata": {},
   "outputs": [
    {
     "name": "stdout",
     "output_type": "stream",
     "text": [
      "Train shape: (2046738, 12), positive labels rate: 0.06777125357520113\n",
      "Test shape: (1102090, 12), positive labels rate: 0.0675888539048535\n"
     ]
    }
   ],
   "source": [
    "from sklearn.model_selection import train_test_split\n",
    "\n",
    "train_df, test_df = train_test_split(df, test_size=0.35)\n",
    "print(f'Train shape: {train_df.shape}, positive labels rate: {positive_labels_rate(train_df)}')\n",
    "print(f'Test shape: {test_df.shape}, positive labels rate: {positive_labels_rate(test_df)}')"
   ]
  },
  {
   "cell_type": "markdown",
   "metadata": {},
   "source": [
    "As we can see the samples were divided evenly."
   ]
  },
  {
   "cell_type": "markdown",
   "metadata": {},
   "source": [
    "Now, separate the target variable from the independent variables:"
   ]
  },
  {
   "cell_type": "code",
   "execution_count": 45,
   "metadata": {},
   "outputs": [],
   "source": [
    "X_train_df, y_train_df = train_df.drop(['click'], axis=1), train_df['click']\n",
    "X_test_df, y_test_df = test_df.drop(['click'], axis=1), test_df['click']"
   ]
  },
  {
   "cell_type": "code",
   "execution_count": 49,
   "metadata": {},
   "outputs": [
    {
     "data": {
      "text/plain": [
       "((2046738, 11), (2046738,))"
      ]
     },
     "execution_count": 49,
     "metadata": {},
     "output_type": "execute_result"
    }
   ],
   "source": [
    "X_train_df.shape, y_train_df.shape"
   ]
  },
  {
   "cell_type": "markdown",
   "metadata": {},
   "source": [
    "# Clean the data"
   ]
  },
  {
   "cell_type": "markdown",
   "metadata": {},
   "source": [
    "First, I am going to inspect the data from the train dataframe more thoroughly and based on that define a function that will clean the data and get rid of noise. Then this function can be reused when new data is passed. For sake of clarity, the modifications will be numbered (*) throughout the analysis and later be referred from the cleaning function.\n",
    "\n",
    "Let's analyze the statistics:"
   ]
  },
  {
   "cell_type": "code",
   "execution_count": 130,
   "metadata": {},
   "outputs": [
    {
     "data": {
      "text/html": [
       "<div>\n",
       "<style scoped>\n",
       "    .dataframe tbody tr th:only-of-type {\n",
       "        vertical-align: middle;\n",
       "    }\n",
       "\n",
       "    .dataframe tbody tr th {\n",
       "        vertical-align: top;\n",
       "    }\n",
       "\n",
       "    .dataframe thead th {\n",
       "        text-align: right;\n",
       "    }\n",
       "</style>\n",
       "<table border=\"1\" class=\"dataframe\">\n",
       "  <thead>\n",
       "    <tr style=\"text-align: right;\">\n",
       "      <th></th>\n",
       "      <th>utc_time</th>\n",
       "      <th>device_height</th>\n",
       "      <th>device_width</th>\n",
       "    </tr>\n",
       "  </thead>\n",
       "  <tbody>\n",
       "    <tr>\n",
       "      <td>count</td>\n",
       "      <td>2.046738e+06</td>\n",
       "      <td>2.046738e+06</td>\n",
       "      <td>2.046738e+06</td>\n",
       "    </tr>\n",
       "    <tr>\n",
       "      <td>mean</td>\n",
       "      <td>1.538332e+12</td>\n",
       "      <td>1.180618e+03</td>\n",
       "      <td>1.152108e+03</td>\n",
       "    </tr>\n",
       "    <tr>\n",
       "      <td>std</td>\n",
       "      <td>2.319730e+09</td>\n",
       "      <td>5.189612e+02</td>\n",
       "      <td>4.525558e+02</td>\n",
       "    </tr>\n",
       "    <tr>\n",
       "      <td>min</td>\n",
       "      <td>1.533578e+12</td>\n",
       "      <td>1.400000e+01</td>\n",
       "      <td>1.400000e+01</td>\n",
       "    </tr>\n",
       "    <tr>\n",
       "      <td>25%</td>\n",
       "      <td>1.536459e+12</td>\n",
       "      <td>7.200000e+02</td>\n",
       "      <td>7.200000e+02</td>\n",
       "    </tr>\n",
       "    <tr>\n",
       "      <td>50%</td>\n",
       "      <td>1.538470e+12</td>\n",
       "      <td>1.080000e+03</td>\n",
       "      <td>1.080000e+03</td>\n",
       "    </tr>\n",
       "    <tr>\n",
       "      <td>75%</td>\n",
       "      <td>1.540090e+12</td>\n",
       "      <td>1.280000e+03</td>\n",
       "      <td>1.280000e+03</td>\n",
       "    </tr>\n",
       "    <tr>\n",
       "      <td>max</td>\n",
       "      <td>1.542630e+12</td>\n",
       "      <td>3.120000e+03</td>\n",
       "      <td>3.120000e+03</td>\n",
       "    </tr>\n",
       "  </tbody>\n",
       "</table>\n",
       "</div>"
      ],
      "text/plain": [
       "           utc_time  device_height  device_width\n",
       "count  2.046738e+06   2.046738e+06  2.046738e+06\n",
       "mean   1.538332e+12   1.180618e+03  1.152108e+03\n",
       "std    2.319730e+09   5.189612e+02  4.525558e+02\n",
       "min    1.533578e+12   1.400000e+01  1.400000e+01\n",
       "25%    1.536459e+12   7.200000e+02  7.200000e+02\n",
       "50%    1.538470e+12   1.080000e+03  1.080000e+03\n",
       "75%    1.540090e+12   1.280000e+03  1.280000e+03\n",
       "max    1.542630e+12   3.120000e+03  3.120000e+03"
      ]
     },
     "execution_count": 130,
     "metadata": {},
     "output_type": "execute_result"
    }
   ],
   "source": [
    "X_train_df.describe()"
   ]
  },
  {
   "cell_type": "markdown",
   "metadata": {},
   "source": [
    "Only 3 features are numerical"
   ]
  },
  {
   "cell_type": "code",
   "execution_count": 131,
   "metadata": {},
   "outputs": [
    {
     "data": {
      "text/plain": [
       "bidid                 0\n",
       "utc_time              0\n",
       "app_id                0\n",
       "user_state            0\n",
       "user_isp             23\n",
       "device_maker     626877\n",
       "device_model     626776\n",
       "device_osv            0\n",
       "device_height         0\n",
       "device_width          0\n",
       "marketplace           0\n",
       "dtype: int64"
      ]
     },
     "execution_count": 131,
     "metadata": {},
     "output_type": "execute_result"
    }
   ],
   "source": [
    "X_train_df.isnull().sum() # count missing entries"
   ]
  },
  {
   "cell_type": "markdown",
   "metadata": {},
   "source": [
    "device_maker and device_model both contain a significant number of missing values. Let's find the optimal way to handle this issue, whereas samples with missing user_isp can be discarded."
   ]
  },
  {
   "cell_type": "code",
   "execution_count": 53,
   "metadata": {},
   "outputs": [
    {
     "data": {
      "text/html": [
       "<div>\n",
       "<style scoped>\n",
       "    .dataframe tbody tr th:only-of-type {\n",
       "        vertical-align: middle;\n",
       "    }\n",
       "\n",
       "    .dataframe tbody tr th {\n",
       "        vertical-align: top;\n",
       "    }\n",
       "\n",
       "    .dataframe thead th {\n",
       "        text-align: right;\n",
       "    }\n",
       "</style>\n",
       "<table border=\"1\" class=\"dataframe\">\n",
       "  <thead>\n",
       "    <tr style=\"text-align: right;\">\n",
       "      <th></th>\n",
       "      <th>user_isp</th>\n",
       "      <th>device_model</th>\n",
       "      <th>device_maker</th>\n",
       "    </tr>\n",
       "  </thead>\n",
       "  <tbody>\n",
       "    <tr>\n",
       "      <td>count</td>\n",
       "      <td>2046715</td>\n",
       "      <td>1419962</td>\n",
       "      <td>1419861</td>\n",
       "    </tr>\n",
       "    <tr>\n",
       "      <td>unique</td>\n",
       "      <td>3171</td>\n",
       "      <td>2169</td>\n",
       "      <td>240</td>\n",
       "    </tr>\n",
       "    <tr>\n",
       "      <td>top</td>\n",
       "      <td>T-Mobile USA</td>\n",
       "      <td>LM-X210(G)</td>\n",
       "      <td>Samsung</td>\n",
       "    </tr>\n",
       "    <tr>\n",
       "      <td>freq</td>\n",
       "      <td>479062</td>\n",
       "      <td>71791</td>\n",
       "      <td>561128</td>\n",
       "    </tr>\n",
       "  </tbody>\n",
       "</table>\n",
       "</div>"
      ],
      "text/plain": [
       "            user_isp device_model device_maker\n",
       "count        2046715      1419962      1419861\n",
       "unique          3171         2169          240\n",
       "top     T-Mobile USA   LM-X210(G)      Samsung\n",
       "freq          479062        71791       561128"
      ]
     },
     "execution_count": 53,
     "metadata": {},
     "output_type": "execute_result"
    }
   ],
   "source": [
    "X_train_df[['user_isp', 'device_model', 'device_maker']].describe()"
   ]
  },
  {
   "cell_type": "markdown",
   "metadata": {},
   "source": [
    "These are categorical variables. Note that device_model predefines device_maker. It suggests that device_maker feature is redundant, however, we will retain it for now. We will inspect the correlation of these variables during analysis of the features importance. \n",
    "\n",
    "### (1) \n",
    "Due to the fact, that missing values constitute a large part of the data I chose to replace NaN values with the most frequent element in the column and in addition to that, to create a new column with 1 if the corresponding category is NaN else 0. This column represents an importance column to the imputed category.\n",
    "\n",
    "This solution is not optimal because it generates bias towards the most frequent values but at the same time we don't lose the samples and we encode the importance of these mock values by adding an additional column which mitigates the consequences."
   ]
  },
  {
   "cell_type": "code",
   "execution_count": 54,
   "metadata": {},
   "outputs": [
    {
     "data": {
      "text/plain": [
       "bidid            1957220\n",
       "utc_time         2046173\n",
       "app_id             13792\n",
       "user_state            51\n",
       "user_isp            3171\n",
       "device_maker         240\n",
       "device_model        2169\n",
       "device_osv            19\n",
       "device_height        282\n",
       "device_width         235\n",
       "marketplace            1\n",
       "dtype: int64"
      ]
     },
     "execution_count": 54,
     "metadata": {},
     "output_type": "execute_result"
    }
   ],
   "source": [
    "X_train_df.nunique()"
   ]
  },
  {
   "cell_type": "code",
   "execution_count": 56,
   "metadata": {},
   "outputs": [
    {
     "data": {
      "text/plain": [
       "count     2046738\n",
       "unique         51\n",
       "top            TX\n",
       "freq       265729\n",
       "Name: user_state, dtype: object"
      ]
     },
     "execution_count": 56,
     "metadata": {},
     "output_type": "execute_result"
    }
   ],
   "source": [
    "X_train_df['user_state'].describe()"
   ]
  },
  {
   "cell_type": "code",
   "execution_count": null,
   "metadata": {},
   "outputs": [],
   "source": [
    "df = df.fillna(df.mode().iloc[0])\n"
   ]
  },
  {
   "cell_type": "code",
   "execution_count": null,
   "metadata": {},
   "outputs": [],
   "source": []
  },
  {
   "cell_type": "code",
   "execution_count": null,
   "metadata": {},
   "outputs": [],
   "source": []
  },
  {
   "cell_type": "code",
   "execution_count": null,
   "metadata": {},
   "outputs": [],
   "source": []
  },
  {
   "cell_type": "code",
   "execution_count": null,
   "metadata": {},
   "outputs": [],
   "source": []
  },
  {
   "cell_type": "code",
   "execution_count": 111,
   "metadata": {},
   "outputs": [
    {
     "data": {
      "text/plain": [
       "(2181, 3)"
      ]
     },
     "execution_count": 111,
     "metadata": {},
     "output_type": "execute_result"
    }
   ],
   "source": [
    "devices_count = X_train_df.groupby(['device_model', 'device_maker']).size().reset_index(name='count').sort_values(by='count', ascending=False)\n",
    "devices_count.shape"
   ]
  },
  {
   "cell_type": "code",
   "execution_count": 116,
   "metadata": {},
   "outputs": [
    {
     "data": {
      "text/html": [
       "<div>\n",
       "<style scoped>\n",
       "    .dataframe tbody tr th:only-of-type {\n",
       "        vertical-align: middle;\n",
       "    }\n",
       "\n",
       "    .dataframe tbody tr th {\n",
       "        vertical-align: top;\n",
       "    }\n",
       "\n",
       "    .dataframe thead th {\n",
       "        text-align: right;\n",
       "    }\n",
       "</style>\n",
       "<table border=\"1\" class=\"dataframe\">\n",
       "  <thead>\n",
       "    <tr style=\"text-align: right;\">\n",
       "      <th></th>\n",
       "      <th>count</th>\n",
       "      <th>device</th>\n",
       "    </tr>\n",
       "  </thead>\n",
       "  <tbody>\n",
       "    <tr>\n",
       "      <td>830</td>\n",
       "      <td>71787</td>\n",
       "      <td>LM-X210(G)_LG</td>\n",
       "    </tr>\n",
       "    <tr>\n",
       "      <td>1522</td>\n",
       "      <td>67711</td>\n",
       "      <td>SM-J327T1_Samsung</td>\n",
       "    </tr>\n",
       "    <tr>\n",
       "      <td>974</td>\n",
       "      <td>57364</td>\n",
       "      <td>Moto E4_Motorola</td>\n",
       "    </tr>\n",
       "    <tr>\n",
       "      <td>923</td>\n",
       "      <td>50711</td>\n",
       "      <td>MP260_LG</td>\n",
       "    </tr>\n",
       "    <tr>\n",
       "      <td>925</td>\n",
       "      <td>29809</td>\n",
       "      <td>MS210_LG</td>\n",
       "    </tr>\n",
       "  </tbody>\n",
       "</table>\n",
       "</div>"
      ],
      "text/plain": [
       "      count             device\n",
       "830   71787      LM-X210(G)_LG\n",
       "1522  67711  SM-J327T1_Samsung\n",
       "974   57364   Moto E4_Motorola\n",
       "923   50711           MP260_LG\n",
       "925   29809           MS210_LG"
      ]
     },
     "execution_count": 116,
     "metadata": {},
     "output_type": "execute_result"
    }
   ],
   "source": [
    "devices_count['device'] = devices_count[['device_model', 'device_maker']].apply(lambda x: '_'.join(x), axis=1)\n",
    "devices_count.drop(['device_model', 'device_maker'], axis=1, inplace=True)\n",
    "devices_count.head()"
   ]
  },
  {
   "cell_type": "code",
   "execution_count": 129,
   "metadata": {},
   "outputs": [
    {
     "data": {
      "image/png": "[encoded data removed]",
      "text/plain": [
       "<Figure size 432x288 with 1 Axes>"
      ]
     },
     "metadata": {
      "needs_background": "light"
     },
     "output_type": "display_data"
    }
   ],
   "source": [
    "# plt.hist(devices_count['count'], log=True)\n",
    "# # plt.xlabel(devices_count['device'])\n",
    "# plt.show()\n",
    "\n",
    "fig = plt.figure()\n",
    "ax = fig.add_axes([0,0,1,1])\n",
    "langs = devices_count['device'][:20]\n",
    "students = devices_count['count'][:20]\n",
    "ax.barh(langs, students)\n",
    "plt.show()"
   ]
  },
  {
   "cell_type": "code",
   "execution_count": 82,
   "metadata": {},
   "outputs": [
    {
     "data": {
      "text/plain": [
       "Series([], Name: bidid, dtype: object)"
      ]
     },
     "execution_count": 82,
     "metadata": {},
     "output_type": "execute_result"
    }
   ],
   "source": [
    "device_freq[['device_model', 'device_maker']].agg('_'.join, axis=0)"
   ]
  }
 ],
 "metadata": {
  "kernelspec": {
   "display_name": "Python 3",
   "language": "python",
   "name": "python3"
  },
  "language_info": {
   "codemirror_mode": {
    "name": "ipython",
    "version": 3
   },
   "file_extension": ".py",
   "mimetype": "text/x-python",
   "name": "python",
   "nbconvert_exporter": "python",
   "pygments_lexer": "ipython3",
   "version": "3.7.4"
  }
 },
 "nbformat": 4,
 "nbformat_minor": 2
}
