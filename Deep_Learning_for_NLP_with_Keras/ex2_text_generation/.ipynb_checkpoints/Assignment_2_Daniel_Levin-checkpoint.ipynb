{
 "cells": [
  {
   "cell_type": "markdown",
   "metadata": {
    "colab_type": "text",
    "id": "dS5AA4sANOD7"
   },
   "source": [
    "# Deep Learning with Python - Assignment 2 - Daniel Levin"
   ]
  },
  {
   "cell_type": "markdown",
   "metadata": {},
   "source": [
    "# 1 Text Generation"
   ]
  },
  {
   "cell_type": "markdown",
   "metadata": {
    "colab_type": "text",
    "id": "GZQH2_K8NsIj"
   },
   "source": [
    "###### Verify GPU"
   ]
  },
  {
   "cell_type": "code",
   "execution_count": 1,
   "metadata": {
    "colab": {
     "base_uri": "https://localhost:8080/",
     "height": 34
    },
    "colab_type": "code",
    "id": "hiq55gEuC7Cy",
    "outputId": "fbb8f874-1eef-4644-88e4-a7f3232b41af"
   },
   "outputs": [],
   "source": [
    "import tensorflow as tf\n",
    "# device_name = tf.test.gpu_device_name()\n",
    "# if device_name != '/device:GPU:0':\n",
    "#   raise SystemError('GPU device not found') \n",
    "# print('Found GPU at: {}'.format(device_name))"
   ]
  },
  {
   "cell_type": "markdown",
   "metadata": {},
   "source": [
    "## Goal of the assignment\n"
   ]
  },
  {
   "cell_type": "markdown",
   "metadata": {},
   "source": [
    "We are configuring a deep learning network that will learn a language model based on the input texts. The network can be used for text generation by character. 'frankenstein.txt' will be the default input text for this network. Since some of the texts uploaded on Ilias are in German I tried to feed the network by some of them too. I couldn't see any difference in perfomance between German and English, which makes sense knowing that all what the network learns is statistics of the input data. So the result depends significantly on the data the network was fed on. I considered using several texts for training as well but decided not to do it for clearness of evaluation, i.e. the model will imitate the style of the text it's trained on. This means that if different texts will constitute a training input for the network it might get confused which style/lexicon it's imitating. In general this approach might be useful for certain goals. In our case I've chosen to limit the model to one specific text to make the assessment of the model more comprehensible.\n",
    "\n",
    "As a side note I'd notice that for this type of learning problem it's quite challenging to come up with a meaningful evaluation method, especially when comparing between two languages."
   ]
  },
  {
   "cell_type": "markdown",
   "metadata": {},
   "source": [
    "The text, on which the network will be trained, should be chosen here:"
   ]
  },
  {
   "cell_type": "code",
   "execution_count": 2,
   "metadata": {},
   "outputs": [],
   "source": [
    "TEXT_FILE = 'texts/Biene Maja.txt'"
   ]
  },
  {
   "cell_type": "markdown",
   "metadata": {},
   "source": [
    "###### Import libraries"
   ]
  },
  {
   "cell_type": "code",
   "execution_count": 3,
   "metadata": {},
   "outputs": [
    {
     "name": "stderr",
     "output_type": "stream",
     "text": [
      "Using TensorFlow backend.\n"
     ]
    }
   ],
   "source": [
    "import pandas as pd\n",
    "import numpy as np\n",
    "import matplotlib.pyplot as plt\n",
    "import os\n",
    "\n",
    "import keras\n",
    "from keras import models, layers, metrics, optimizers\n",
    "from sklearn.model_selection import train_test_split"
   ]
  },
  {
   "cell_type": "markdown",
   "metadata": {
    "colab_type": "text",
    "id": "XUWWoOy7NeLh"
   },
   "source": [
    "# Data preprocessing\n",
    "###### Importing the text for training\n",
    "We're reading the text from the previously configured file in variable TEXT_FILE into one string. Upper case is ignored since it doesn't constitute anything meaningful for learning a language model. Moreover it doubles the size of the alphabet which significantly decreases the depth of the language model that's being learned. Newline characters aren't removed because we do want to keep the sequential properties of the text. In other words we want our network to generate a text that has the same layout as the text that was used for training."
   ]
  },
  {
   "cell_type": "code",
   "execution_count": 4,
   "metadata": {},
   "outputs": [
    {
     "name": "stdout",
     "output_type": "stream",
     "text": [
      "Corpus length: 421607\n"
     ]
    }
   ],
   "source": [
    "with open(TEXT_FILE, 'r') as f:\n",
    "    text = f.read().lower()\n",
    "\n",
    "print('Corpus length:', len(text))\n"
   ]
  },
  {
   "cell_type": "markdown",
   "metadata": {},
   "source": [
    "The corpus length is more than 400000 which should be enough for training a network."
   ]
  },
  {
   "cell_type": "markdown",
   "metadata": {},
   "source": [
    "Now we extract snippets by length 80 (`maxlen`) characters each with every sequence starting after `step` 3 tokens after the previous one. This code fragment is identical to what is shown in chapter 8.1. "
   ]
  },
  {
   "cell_type": "code",
   "execution_count": 5,
   "metadata": {},
   "outputs": [
    {
     "name": "stdout",
     "output_type": "stream",
     "text": [
      "Number of sequences:  140509\n"
     ]
    }
   ],
   "source": [
    "# the maximal length of characters of each sequence\n",
    "maxlen = 80\n",
    "\n",
    "# a new sequence will be sampled every `step` characters\n",
    "step = 3\n",
    "\n",
    "# extracted sequences\n",
    "sentences = []\n",
    "\n",
    "# the list of 'follow-up' characters - target labels\n",
    "next_chars = []\n",
    "\n",
    "for i in range(0, len(text) - maxlen, step):\n",
    "    sentences.append(text[i: i + maxlen])\n",
    "    next_chars.append(text[i + maxlen])\n",
    "    \n",
    "print('Number of sequences: ', len(sentences))"
   ]
  },
  {
   "cell_type": "markdown",
   "metadata": {},
   "source": [
    "Now we're building a list of unique characters in the text in order to index characters."
   ]
  },
  {
   "cell_type": "code",
   "execution_count": 6,
   "metadata": {},
   "outputs": [
    {
     "name": "stdout",
     "output_type": "stream",
     "text": [
      "Unique characters:  52\n"
     ]
    }
   ],
   "source": [
    "# list of unique characters in the text\n",
    "chars = sorted(list(set(text)))\n",
    "print('Unique characters: ', len(chars))\n",
    "\n",
    "# Dictionary mapping characters to their indices according to their order in `chars` list\n",
    "char_indices = dict((char, i) for i, char in enumerate(chars))"
   ]
  },
  {
   "cell_type": "markdown",
   "metadata": {},
   "source": [
    "Next let's one-hot encode the characters into binary matrices."
   ]
  },
  {
   "cell_type": "code",
   "execution_count": 7,
   "metadata": {},
   "outputs": [],
   "source": [
    "x = np.zeros((len(sentences), maxlen, len(chars)), dtype=np.bool)\n",
    "y = np.zeros((len(sentences), len(chars)), dtype=np.bool)\n",
    "for i, sentence in enumerate(sentences):\n",
    "    for j, char in enumerate(sentence):\n",
    "        x[i, j, char_indices[char]] = 1\n",
    "    y[i, char_indices[next_chars[i]]] = 1"
   ]
  },
  {
   "cell_type": "markdown",
   "metadata": {},
   "source": [
    "# Building the network\n",
    "As a baseline let's take a very straightforward architecture that was proposed by Chollet in chapter 8.1 - one `LSTM` layer followed by a `Dense` classifier and softmax over all possible characters."
   ]
  },
  {
   "cell_type": "code",
   "execution_count": 8,
   "metadata": {},
   "outputs": [],
   "source": [
    "model = keras.models.Sequential()\n",
    "model.add(layers.LSTM(128, input_shape=(maxlen, len(chars))))\n",
    "model.add(layers.Dense(len(chars), activation='softmax'))"
   ]
  },
  {
   "cell_type": "markdown",
   "metadata": {},
   "source": [
    "Our targets are one-hot encoded, therefore we will use the `categorical_crossentropy` loss during compilation."
   ]
  },
  {
   "cell_type": "code",
   "execution_count": 9,
   "metadata": {},
   "outputs": [],
   "source": [
    "model.compile(loss='categorical_crossentropy', optimizer=optimizers.RMSprop(lr=0.01))"
   ]
  },
  {
   "cell_type": "markdown",
   "metadata": {},
   "source": [
    "# Training the language model and sampling from it\n",
    "Here we implement the `sample` function identical to what we've seen in Chollet's chapter, namely the imlementation of reweighting of the probability distribution given a certain temperature."
   ]
  },
  {
   "cell_type": "code",
   "execution_count": 10,
   "metadata": {},
   "outputs": [],
   "source": [
    "def sample(preds, temperature=1.0):\n",
    "    preds = np.asarray(preds).astype('float64')\n",
    "    preds = np.log(preds) / temperature\n",
    "    exp_preds = np.exp(preds)\n",
    "    preds = exp_preds / np.sum(exp_preds)\n",
    "    probas = np.random.multinomial(1, preds, 1)\n",
    "    return np.argmax(probas)"
   ]
  },
  {
   "cell_type": "markdown",
   "metadata": {},
   "source": [
    "Now we are ready to implement the main loop where we generate text by appending the most recent prediction sampled according to the reweighted distribution to the current text and sampling again and again.\n",
    "\n",
    "First let's fit the model."
   ]
  },
  {
   "cell_type": "code",
   "execution_count": null,
   "metadata": {},
   "outputs": [
    {
     "name": "stdout",
     "output_type": "stream",
     "text": [
      "Epoch 1/1\n",
      "  7728/140509 [>.............................] - ETA: 17:03 - loss: 2.5744"
     ]
    }
   ],
   "source": [
    "epochs = 1\n",
    "batch_size = 16\n",
    "\n",
    "history = model.fit(x, y,\n",
    "                    batch_size=batch_size,\n",
    "                    epochs=epochs)"
   ]
  },
  {
   "cell_type": "markdown",
   "metadata": {},
   "source": [
    "At this point the notebook gets stuck regardless of number of epochs and batch size. If the batch size is 16 or smaller, the training runs until some point and then freezes. From what I understood for (batch_size <= 16) it happens because google CoLab provides limited memory, whereas for (batch_size > 16) there is a bug addressed here: https://github.com/keras-team/keras/issues/8595. None of the proposed solutions helped me and it seems like this bug hasn't been resolved yet.\n"
   ]
  },
  {
   "cell_type": "markdown",
   "metadata": {},
   "source": [
    "Second let's implement a function `generate_text` that will generate and append the next `length` predicted characters given a `text` and `start_index`. The sampling is done according to the distribution defined by the `model` with given `temperature` used for reweighting."
   ]
  },
  {
   "cell_type": "code",
   "execution_count": null,
   "metadata": {},
   "outputs": [],
   "source": [
    "import random\n",
    "import sys\n",
    "\n",
    "def generate_text(text, start_index, temperature=1.0, length=300):\n",
    "    \n",
    "    # the window in the text we're currently looking at\n",
    "    generated_text = text[start_index: start_index + maxlen]\n",
    "    \n",
    "    print('--- Generating with seed: \"' + generated_text + '\"')\n",
    "    \n",
    "    sys.stdout.write(generated_text)\n",
    "\n",
    "    # we generate `length` characters\n",
    "    for i in range(length):\n",
    "        sampled = np.zeros((1, maxlen, len(chars)))\n",
    "        for t, char in enumerate(text):\n",
    "            sampled[0, t, char_indices[char]] = 1.\n",
    "\n",
    "        # predict the next character\n",
    "        preds = model.predict(sampled, verbose=0)[0]\n",
    "        next_index = sample(preds, temperature)\n",
    "        next_char = chars[next_index]\n",
    "\n",
    "        # update the current generated text by appending the sampled char and moving it one char right\n",
    "        generated_text = generated_text[1:] + next_char\n",
    "\n",
    "        sys.stdout.write(next_char)\n",
    "        sys.stdout.flush()\n",
    "    print()"
   ]
  },
  {
   "cell_type": "markdown",
   "metadata": {},
   "source": [
    "Now let's tune the model by using different temperatures and observing the outcome"
   ]
  },
  {
   "cell_type": "code",
   "execution_count": null,
   "metadata": {},
   "outputs": [],
   "source": [
    "temperatures = np.arange(0.0, 1.5, 0.2)\n",
    "for temperature in temperatures:\n",
    "    # Select a text seed at random\n",
    "    start_index = random.randint(0, len(text) - maxlen - 1)\n",
    "    print('--- Generating with seed: \"' + generated_text + '\"')\n",
    "    generate_text(text, start_index, temperature=temperature)\n",
    "        "
   ]
  },
  {
   "cell_type": "markdown",
   "metadata": {},
   "source": [
    "As we can see from the generated texts high temperature value result in a quite creative text with not existing words that still comply with the phonotactical limits of the language. In contrary low temperature values produce a very predictable and repetitive structures and words, very similar to the training text."
   ]
  },
  {
   "cell_type": "markdown",
   "metadata": {},
   "source": [
    "# 2 Extra Credit: Literature and Computation"
   ]
  },
  {
   "cell_type": "markdown",
   "metadata": {},
   "source": [
    "I will relate to the most relevant fragment (in my opinion):\n",
    "\n",
    "\"\n",
    "It's really what people call intuition and make such a fuss about. \n",
    "Intuition is like reading a word without having to spell it out. \n",
    "A child can't do that, because it has had so little experience. \n",
    "But a grown-up person knows the word because he's seen it often before.\n",
    "\"\n",
    "\n",
    "This passage strongly reminds me of what we're trying to achieve when we learn a language model by means of a neural network. We're trying to force the network to learn some kind of intuition about the language it's trained on, just like a child absorbs natural language - by being constantly exposed to linguistical input. So in the sense of statistics humans and networks are similar - the more data they get, the better they learn the model. The only difference (rather enormous, unfortunately for Machine Learning) is that a human being is able to take these statistics a few steps further than the most sophisticated and computationally advanced network as of today. A human is able to interpret such a data and imply in a very natural and so far obscure way how to apply this knowledge to infinite number of different real and abstract life situations. The machines are getting better at this but still far behind us. So the phrase \"reading a word without having to spell it out\" means that a person doesn't need a numerical (or whatever else) encoding of a word to be able to perceive it. The machines in contrary are helpless without a decent encoding.\n",
    "\n",
    "Another parallel to our assignment from this passage is hidden in comparing a child to a neural network at its first epochs. Both don't know much about the language - both just gather some first observations - statistics and context. When a child grows up, its knowledge is more similar to the powerful neural network that contains a comprehensive language model under the hood. But obviously, as I already mentioned, the deep learning, as we are familiar with it today, is quite limited and it cannot top the limitation set by statistics, even when it's not possible for a human to explain it clearly."
   ]
  },
  {
   "cell_type": "code",
   "execution_count": null,
   "metadata": {},
   "outputs": [],
   "source": []
  }
 ],
 "metadata": {
  "accelerator": "GPU",
  "colab": {
   "collapsed_sections": [],
   "name": "Assignment_2_Daniel_Levin.ipynb",
   "provenance": []
  },
  "kernelspec": {
   "display_name": "Python 3",
   "language": "python",
   "name": "python3"
  },
  "language_info": {
   "codemirror_mode": {
    "name": "ipython",
    "version": 3
   },
   "file_extension": ".py",
   "mimetype": "text/x-python",
   "name": "python",
   "nbconvert_exporter": "python",
   "pygments_lexer": "ipython3",
   "version": "3.7.4"
  }
 },
 "nbformat": 4,
 "nbformat_minor": 1
}
